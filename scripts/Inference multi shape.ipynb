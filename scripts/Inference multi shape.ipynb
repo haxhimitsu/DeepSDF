{
 "cells": [
  {
   "cell_type": "markdown",
   "id": "5ff402cc",
   "metadata": {},
   "source": [
    "# Infer shape\n",
    "To test the approach, I pass data from one of the three objects trained. First, I try to retrieve the latent vector, and then I try to reconstruct the object."
   ]
  },
  {
   "cell_type": "code",
   "execution_count": 1,
   "id": "de977a57",
   "metadata": {},
   "outputs": [],
   "source": [
    "import numpy as np\n",
    "import torch"
   ]
  },
  {
   "cell_type": "markdown",
   "id": "1f21e8d0",
   "metadata": {},
   "source": [
    "Extract pointclouds from one of the objects randomly."
   ]
  },
  {
   "cell_type": "code",
   "execution_count": null,
   "id": "e5581a5c",
   "metadata": {},
   "outputs": [],
   "source": []
  }
 ],
 "metadata": {
  "kernelspec": {
   "display_name": "Python 3 (ipykernel)",
   "language": "python",
   "name": "python3"
  },
  "language_info": {
   "codemirror_mode": {
    "name": "ipython",
    "version": 3
   },
   "file_extension": ".py",
   "mimetype": "text/x-python",
   "name": "python",
   "nbconvert_exporter": "python",
   "pygments_lexer": "ipython3",
   "version": "3.8.13"
  }
 },
 "nbformat": 4,
 "nbformat_minor": 5
}
