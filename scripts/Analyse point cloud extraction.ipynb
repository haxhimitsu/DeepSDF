{
 "cells": [
  {
   "cell_type": "code",
   "execution_count": null,
   "id": "c532e747",
   "metadata": {},
   "outputs": [],
   "source": [
    "import numpy as np\n",
    "import torch\n",
    "import data_making.dataset as dataset\n",
    "import matplotlib.pyplot as plt\n",
    "import plotly.graph_objects as go\n",
    "import results\n",
    "import os\n",
    "import trimesh\n",
    "from mesh_to_sdf import sample_sdf_near_surface\n",
    "import data\n",
    "from utils import utils\n",
    "import meshplot as mp\n",
    "from data_making.extract_data import *\n",
    "import argparse\n",
    "from mesh_to_sdf.surface_point_cloud import *"
   ]
  },
  {
   "cell_type": "markdown",
   "id": "2c139044",
   "metadata": {},
   "source": [
    "### PartNet Mobility extracted with my functions"
   ]
  },
  {
   "cell_type": "code",
   "execution_count": null,
   "id": "1517f74a",
   "metadata": {},
   "outputs": [],
   "source": [
    "data_set = dataset.SDFDataset()"
   ]
  },
  {
   "cell_type": "code",
   "execution_count": null,
   "id": "273d3355",
   "metadata": {},
   "outputs": [],
   "source": [
    "sdf = np.array(data_set[7000:14000][1].view(-1))\n",
    "plt.hist(sdf, bins=40)\n",
    "plt.show()"
   ]
  },
  {
   "cell_type": "code",
   "execution_count": null,
   "id": "5b0e2090",
   "metadata": {},
   "outputs": [],
   "source": [
    "obj_ids = torch.where(data_set[:][0][:, 0] == 3763.0)[0]\n",
    "obj_ids"
   ]
  },
  {
   "cell_type": "code",
   "execution_count": null,
   "id": "33f6f9db",
   "metadata": {},
   "outputs": [],
   "source": [
    "obj_ids = torch.unique(data_set[:][0][:, 0])\n",
    "\n",
    "# CHANGE HERE TO CHANGE OBJECT ----------------\n",
    "obj_id = obj_ids[2]\n",
    "# CHANGE HERE TO CHANGE OBJECT ----------------\n",
    "\n",
    "obj_ixs = torch.where(data_set[:][0][:, 0] == obj_id)[0]\n",
    "coords_latent = data_set[obj_ixs][0]\n",
    "points = coords_latent[:, 1:]\n",
    "sdf = data_set[obj_ixs][1]"
   ]
  },
  {
   "cell_type": "code",
   "execution_count": null,
   "id": "597558f0",
   "metadata": {},
   "outputs": [],
   "source": [
    "np.where(sdf < 0)[0]"
   ]
  },
  {
   "cell_type": "code",
   "execution_count": null,
   "id": "dd150ac9",
   "metadata": {},
   "outputs": [],
   "source": [
    "negative_indices = np.where(sdf < 0)[0]\n",
    "positive_indices = np.where(sdf > 0)[0]\n",
    "\n",
    "negative_sdf_points = points[negative_indices]\n",
    "positive_sdf_points = points[positive_indices]\n",
    "\n",
    "print(f'Number of positive coordinates: {positive_sdf_points.shape[0]}')\n",
    "print(f'Number of negative coordinates: {negative_sdf_points.shape[0]}')\n",
    "\n",
    "fig = go.Figure(\n",
    "    [\n",
    "        go.Scatter3d(x=negative_sdf_points[:, 0], \n",
    "             y=negative_sdf_points[:, 1],\n",
    "             z=negative_sdf_points[:, 2], \n",
    "             mode='markers', marker=dict(size=2)),\n",
    "        go.Scatter3d(x=positive_sdf_points[:, 0], \n",
    "             y=positive_sdf_points[:, 1],\n",
    "             z=positive_sdf_points[:, 2], \n",
    "             mode='markers', marker=dict(size=2, color='orange')\n",
    "            )\n",
    "    ]\n",
    ")\n",
    "fig.show()"
   ]
  },
  {
   "cell_type": "markdown",
   "id": "f4ebd918",
   "metadata": {},
   "source": [
    "The problem is that only a tiny fraction of the overall points is associated with a negative sdf. A possible solution is to sample more points near the negative samples and only keep the negative ones."
   ]
  },
  {
   "cell_type": "code",
   "execution_count": null,
   "id": "492d2fa0",
   "metadata": {},
   "outputs": [],
   "source": [
    "negative_sdf_points.shape"
   ]
  },
  {
   "cell_type": "code",
   "execution_count": null,
   "id": "7a8a0ed9",
   "metadata": {},
   "outputs": [],
   "source": [
    "objs_dict = np.load(os.path.join(os.path.dirname(results.__file__), 'objs_dict.npy'), allow_pickle=True).item()\n",
    "objs_dict.keys()"
   ]
  },
  {
   "cell_type": "code",
   "execution_count": null,
   "id": "25e68712",
   "metadata": {},
   "outputs": [],
   "source": [
    "objs_dict = np.load(os.path.join(os.path.dirname(results.__file__), 'objs_dict.npy'), allow_pickle=True).item()\n",
    "obj_idx = '102505'\n",
    "mesh = trimesh.Trimesh(objs_dict[obj_idx]['verts'], objs_dict[obj_idx]['faces'])\n"
   ]
  },
  {
   "cell_type": "code",
   "execution_count": null,
   "id": "3b3a9a5b",
   "metadata": {},
   "outputs": [],
   "source": [
    "sigma = 0.01\n",
    "spc = create_from_scans(mesh)\n",
    "\n",
    "for i in range(4):\n",
    "    additional_negatives = np.random.normal(0, sigma, size=(negative_sdf_points.shape[0] * negative_sdf_points.shape[1]))\n",
    "    temp_negative_sdf_points = negative_sdf_points + additional_negatives.reshape(negative_sdf_points.shape[0], negative_sdf_points.shape[1]) \n",
    "    print(temp_negative_sdf_points)\n",
    "    sdf = spc.get_sdf_in_batches(temp_negative_sdf_points, use_depth_buffer=True)\n",
    "    new_neg_points = temp_negative_sdf_points[sdf<0]\n",
    "    negative_sdf_points = np.vstack((negative_sdf_points, new_neg_points))\n"
   ]
  },
  {
   "cell_type": "code",
   "execution_count": null,
   "id": "122fc6cd",
   "metadata": {},
   "outputs": [],
   "source": [
    "# doppia only points at the surface\n",
    "coords_latent = data_set[50000:100000][0]\n",
    "points = coords_latent[:, 1:]\n",
    "sdf = data_set[50000:100000][1]\n",
    "\n",
    "negative_indices = np.where(sdf < 0)[0]\n",
    "positive_indices = np.where(sdf > 0)[0]\n",
    "\n",
    "negative_sdf_points = points[negative_indices]\n",
    "positive_sdf_points = points[positive_indices]\n",
    "\n",
    "print(f'Number of positive coordinates: {positive_sdf_points.shape[0]}')\n",
    "print(f'Number of negative coordinates: {negative_sdf_points.shape[0]}')\n",
    "\n",
    "surface_indices = np.where((sdf > -0.01) & (sdf < 0.01))[0]\n",
    "points_on_surface = points[surface_indices]\n",
    "\n",
    "fig = go.Figure(\n",
    "    [\n",
    "        go.Scatter3d(x=points_on_surface[:, 0], \n",
    "                     y=points_on_surface[:, 1],\n",
    "                     z=points_on_surface[:, 2], \n",
    "                     mode='markers', marker=dict(size=2))\n",
    "    ]\n",
    ")\n",
    "fig.show()\n",
    "sdf_on_surface = sdf[surface_indices]\n",
    "\n",
    "objs_dict = np.load(os.path.join(os.path.dirname(results.__file__), 'objs_dict.npy'), allow_pickle=True).item()\n",
    "obj_idx = '102505'\n",
    "mesh = trimesh.Trimesh(objs_dict[obj_idx]['verts'], objs_dict[obj_idx]['faces'])\n",
    "spc = create_from_scans(mesh)\n",
    "sigma = 0.05\n",
    "\n",
    "for _ in range(2):\n",
    "    additional_points = torch.normal(0, sigma, size=(points_on_surface.shape[0] * points_on_surface.shape[1], ))\n",
    "    temp_points = points_on_surface + additional_points.view(points_on_surface.shape[0], points_on_surface.shape[1]) \n",
    "    temp_sdf = torch.tensor(spc.get_sdf_in_batches(temp_points, use_depth_buffer=True))\n",
    "    new_neg_points = temp_points[temp_sdf<0]\n",
    "    new_sdf = temp_sdf[temp_sdf < 0].view(-1, 1)\n",
    "    sdf = np.vstack((sdf, new_sdf))\n",
    "    points = torch.vstack((points, new_neg_points))\n",
    "    surface_indices = np.where((sdf > -0.01) & (sdf < 0.01))[0]\n",
    "    points_on_surface = points[surface_indices]\n",
    "    \n",
    "negative_indices = np.where(sdf < 0)[0]\n",
    "positive_indices = np.where(sdf > 0)[0]\n",
    "\n",
    "negative_sdf_points = points[negative_indices]\n",
    "positive_sdf_points = points[positive_indices]\n",
    "\n",
    "print(f'Number of new positive coordinates: {positive_sdf_points.shape[0]}')\n",
    "print(f'Number of new negative coordinates: {negative_sdf_points.shape[0]}')\n",
    "\n",
    "fig = go.Figure(\n",
    "    [\n",
    "        go.Scatter3d(x=negative_sdf_points[:, 0], \n",
    "                     y=negative_sdf_points[:, 1],\n",
    "                     z=negative_sdf_points[:, 2], \n",
    "                     mode='markers', marker=dict(size=2)),\n",
    "        go.Scatter3d(x=positive_sdf_points[:, 0], \n",
    "                     y=positive_sdf_points[:, 1],\n",
    "                     z=positive_sdf_points[:, 2], \n",
    "                     mode='markers', marker=dict(size=2, color='orange'))\n",
    "    ]\n",
    ")\n",
    "fig.show()"
   ]
  },
  {
   "cell_type": "markdown",
   "id": "ce741c16",
   "metadata": {},
   "source": [
    "### PartNet Mobility with Marian's function"
   ]
  },
  {
   "cell_type": "code",
   "execution_count": null,
   "id": "d9aa6a2a",
   "metadata": {},
   "outputs": [],
   "source": [
    "objs_dict = np.load(os.path.join(os.path.dirname(results.__file__), 'objs_dict.npy'), allow_pickle=True).item()"
   ]
  },
  {
   "cell_type": "code",
   "execution_count": null,
   "id": "9ec108f5",
   "metadata": {},
   "outputs": [],
   "source": [
    "obj = objs_dict['102763']\n",
    "verts = obj['verts']\n",
    "faces = obj['faces']"
   ]
  },
  {
   "cell_type": "code",
   "execution_count": null,
   "id": "f574f730",
   "metadata": {},
   "outputs": [],
   "source": [
    "mesh = trimesh.Trimesh(verts, faces)\n",
    "points, sdf = sample_sdf_near_surface(mesh, number_of_points=50000, sign_method='depth')"
   ]
  },
  {
   "cell_type": "code",
   "execution_count": null,
   "id": "2dfae665",
   "metadata": {},
   "outputs": [],
   "source": [
    "plt.hist(sdf, bins=40)\n",
    "plt.show()"
   ]
  },
  {
   "cell_type": "code",
   "execution_count": null,
   "id": "0a2cef36",
   "metadata": {},
   "outputs": [],
   "source": [
    "negative_indices = np.where(sdf < 0)\n",
    "positive_indices = np.where(sdf > 0.001)\n",
    "\n",
    "negative_sdf_points = points[negative_indices]\n",
    "positive_sdf_points = points[positive_indices]"
   ]
  },
  {
   "cell_type": "code",
   "execution_count": null,
   "id": "d868d2fd",
   "metadata": {},
   "outputs": [],
   "source": [
    "fig = go.Figure(\n",
    "    [\n",
    "        go.Scatter3d(x=negative_sdf_points[:, 0], \n",
    "             y=negative_sdf_points[:, 1],\n",
    "             z=negative_sdf_points[:, 2], \n",
    "             mode='markers', marker=dict(size=2)),\n",
    "        go.Scatter3d(x=positive_sdf_points[:, 0], \n",
    "             y=positive_sdf_points[:, 1],\n",
    "             z=positive_sdf_points[:, 2], \n",
    "             mode='markers', marker=dict(size=2, color='orange')\n",
    "            )\n",
    "    ]\n",
    ")\n",
    "fig.show()"
   ]
  },
  {
   "cell_type": "markdown",
   "id": "85e2e35a",
   "metadata": {},
   "source": [
    "### ShapeNet with my function"
   ]
  },
  {
   "cell_type": "code",
   "execution_count": null,
   "id": "7a682508",
   "metadata": {},
   "outputs": [],
   "source": [
    "obj_path = os.path.join(os.path.dirname(data.__file__), 'shapenet_obj', '1b29de0b8be4b18733d25da891be74b8.obj' )\n",
    "mesh = utils._as_mesh(trimesh.load(obj_path))   # for some reason, they are 2"
   ]
  },
  {
   "cell_type": "code",
   "execution_count": null,
   "id": "3659218b",
   "metadata": {},
   "outputs": [],
   "source": [
    "mp.plot(mesh.vertices, mesh.faces)"
   ]
  },
  {
   "cell_type": "code",
   "execution_count": null,
   "id": "98d9c344",
   "metadata": {},
   "outputs": [],
   "source": [
    "obj_idx = 0\n",
    "#trimesh.repair.fix_inversion(mesh)\n",
    "objs_dict = {0: {'verts': np.asarray(mesh.vertices), 'faces': np.asarray(mesh.faces)}}\n",
    "\n",
    "class Args:\n",
    "  num_samples_on_surface = 5000\n",
    "  num_samples_far_surface = 5000\n",
    "\n",
    "args=Args()\n",
    "\n",
    "samples_dict = dict()\n",
    "samples_dict[obj_idx] = dict()\n",
    "samples_dict[obj_idx]['samples'] = sample(objs_dict[obj_idx], args)\n",
    "samples_dict[obj_idx]['sdf'] = compute_sdf(objs_dict[obj_idx]['verts'], objs_dict[obj_idx]['faces'], samples_dict[obj_idx]['samples'])\n",
    "samples_dict[obj_idx]['latent_class'] = np.array([obj_idx], dtype=np.int32)\n",
    "samples_dict[obj_idx]['samples_latent_class'] = combine_sample_latent(samples_dict[obj_idx]['samples'], samples_dict[obj_idx]['latent_class'])\n"
   ]
  },
  {
   "cell_type": "code",
   "execution_count": null,
   "id": "dc0cf7ce",
   "metadata": {},
   "outputs": [],
   "source": [
    "def _debug_plot(samples, dist=True):\n",
    "    points = samples['samples']\n",
    "    sdfs = samples['sdf']\n",
    "    inner = points[sdfs>0]\n",
    "    outer = points[sdfs<0]\n",
    "\n",
    "    fig = go.Figure(\n",
    "        [\n",
    "            go.Scatter3d(x=inner[:, 0], y=inner[:, 1],z=inner[:, 2], mode='markers', marker=dict(size=2)),\n",
    "            go.Scatter3d(x=outer[:, 0], y=outer[:, 1],z=outer[:, 2], mode='markers', marker=dict(size=2))\n",
    "        ]\n",
    "    )\n",
    "    fig.show()\n",
    "\n",
    "_debug_plot(samples_dict[obj_idx]) \n"
   ]
  },
  {
   "cell_type": "code",
   "execution_count": null,
   "id": "da8e50e2",
   "metadata": {},
   "outputs": [],
   "source": [
    "points, sdf = sample_sdf_near_surface(mesh, sign_method='depth', number_of_points=100000)"
   ]
  },
  {
   "cell_type": "code",
   "execution_count": null,
   "id": "dfda25da",
   "metadata": {},
   "outputs": [],
   "source": [
    "plt.hist(sdf, bins=40)\n",
    "plt.show()"
   ]
  },
  {
   "cell_type": "code",
   "execution_count": null,
   "id": "8f015c63",
   "metadata": {},
   "outputs": [],
   "source": [
    "negative_indices = np.where(sdf < 0)\n",
    "positive_indices = np.where(sdf > 0)\n",
    "\n",
    "negative_sdf_points = points[negative_indices]\n",
    "positive_sdf_points = points[positive_indices]\n",
    "\n",
    "negative_sdf = sdf[negative_indices]\n",
    "positive_sdf = sdf[positive_indices]"
   ]
  },
  {
   "cell_type": "code",
   "execution_count": null,
   "id": "03bf0ae6",
   "metadata": {},
   "outputs": [],
   "source": [
    "fig = go.Figure(\n",
    "    [\n",
    "        go.Scatter3d(x=negative_sdf_points[:, 0], \n",
    "             y=negative_sdf_points[:, 1],\n",
    "             z=negative_sdf_points[:, 2], \n",
    "             mode='markers', marker=dict(size=2, color='orange')),\n",
    "        go.Scatter3d(x=positive_sdf_points[:, 0], \n",
    "             y=positive_sdf_points[:, 1],\n",
    "             z=positive_sdf_points[:, 2], \n",
    "             mode='markers', marker=dict(size=2, color='blue')\n",
    "            )\n",
    "    ]\n",
    ")\n",
    "fig.show()"
   ]
  },
  {
   "cell_type": "code",
   "execution_count": null,
   "id": "d09b7a3e",
   "metadata": {},
   "outputs": [],
   "source": [
    "np.amin(sdf)"
   ]
  },
  {
   "cell_type": "code",
   "execution_count": null,
   "id": "300508a8",
   "metadata": {},
   "outputs": [],
   "source": [
    "a = np.array([1, 5, 11])\n",
    "np.where(a < 6)[0]"
   ]
  },
  {
   "cell_type": "markdown",
   "id": "518f9183",
   "metadata": {},
   "source": [
    "# Test new mesh_to_sdf method"
   ]
  },
  {
   "cell_type": "code",
   "execution_count": 1,
   "id": "14be2361",
   "metadata": {},
   "outputs": [],
   "source": [
    "import results\n",
    "import numpy as np\n",
    "import os\n",
    "import trimesh\n",
    "from mesh_to_sdf import sample_sdf_near_surface\n",
    "import plotly.graph_objects as go\n"
   ]
  },
  {
   "cell_type": "code",
   "execution_count": 2,
   "id": "839ec339",
   "metadata": {},
   "outputs": [
    {
     "ename": "TypeError",
     "evalue": "sample_sdf_near_surface() got an unexpected keyword argument 'unit_sphere_scaler'",
     "output_type": "error",
     "traceback": [
      "\u001b[0;31m---------------------------------------------------------------------------\u001b[0m",
      "\u001b[0;31mTypeError\u001b[0m                                 Traceback (most recent call last)",
      "Input \u001b[0;32mIn [2]\u001b[0m, in \u001b[0;36m<cell line: 6>\u001b[0;34m()\u001b[0m\n\u001b[1;32m     10\u001b[0m points, sdf \u001b[38;5;241m=\u001b[39m sample_sdf_near_surface(mesh, number_of_points\u001b[38;5;241m=\u001b[39mnumber_of_points, sign_method\u001b[38;5;241m=\u001b[39m\u001b[38;5;124m'\u001b[39m\u001b[38;5;124mdepth\u001b[39m\u001b[38;5;124m'\u001b[39m)\n\u001b[1;32m     11\u001b[0m scatters\u001b[38;5;241m.\u001b[39mappend(go\u001b[38;5;241m.\u001b[39mScatter3d(\n\u001b[1;32m     12\u001b[0m                  x\u001b[38;5;241m=\u001b[39mpoints[:, \u001b[38;5;241m0\u001b[39m], \n\u001b[1;32m     13\u001b[0m                  y\u001b[38;5;241m=\u001b[39mpoints[:, \u001b[38;5;241m1\u001b[39m],\n\u001b[0;32m   (...)\u001b[0m\n\u001b[1;32m     16\u001b[0m                  name\u001b[38;5;241m=\u001b[39m\u001b[38;5;124m'\u001b[39m\u001b[38;5;124munit_sphere\u001b[39m\u001b[38;5;124m'\u001b[39m\n\u001b[1;32m     17\u001b[0m             ))\n\u001b[0;32m---> 19\u001b[0m points, sdf \u001b[38;5;241m=\u001b[39m \u001b[43msample_sdf_near_surface\u001b[49m\u001b[43m(\u001b[49m\u001b[43mmesh\u001b[49m\u001b[43m,\u001b[49m\u001b[43m \u001b[49m\u001b[43mnumber_of_points\u001b[49m\u001b[38;5;241;43m=\u001b[39;49m\u001b[43mnumber_of_points\u001b[49m\u001b[43m,\u001b[49m\u001b[43m \u001b[49m\u001b[43msign_method\u001b[49m\u001b[38;5;241;43m=\u001b[39;49m\u001b[38;5;124;43m'\u001b[39;49m\u001b[38;5;124;43mdepth\u001b[39;49m\u001b[38;5;124;43m'\u001b[39;49m\u001b[43m,\u001b[49m\u001b[43m \u001b[49m\u001b[43munit_sphere_scaler\u001b[49m\u001b[38;5;241;43m=\u001b[39;49m\u001b[38;5;28;43;01mFalse\u001b[39;49;00m\u001b[43m)\u001b[49m\n\u001b[1;32m     20\u001b[0m scatters\u001b[38;5;241m.\u001b[39mappend(go\u001b[38;5;241m.\u001b[39mScatter3d(\n\u001b[1;32m     21\u001b[0m                  x\u001b[38;5;241m=\u001b[39mpoints[:, \u001b[38;5;241m0\u001b[39m], \n\u001b[1;32m     22\u001b[0m                  y\u001b[38;5;241m=\u001b[39mpoints[:, \u001b[38;5;241m1\u001b[39m],\n\u001b[0;32m   (...)\u001b[0m\n\u001b[1;32m     25\u001b[0m                  name\u001b[38;5;241m=\u001b[39m\u001b[38;5;124m'\u001b[39m\u001b[38;5;124mnone\u001b[39m\u001b[38;5;124m'\u001b[39m\n\u001b[1;32m     26\u001b[0m             ))\n\u001b[1;32m     28\u001b[0m points, sdf \u001b[38;5;241m=\u001b[39m sample_sdf_near_surface(mesh, number_of_points\u001b[38;5;241m=\u001b[39mnumber_of_points, sign_method\u001b[38;5;241m=\u001b[39m\u001b[38;5;124m'\u001b[39m\u001b[38;5;124mdepth\u001b[39m\u001b[38;5;124m'\u001b[39m, unit_cube_scaler\u001b[38;5;241m=\u001b[39m\u001b[38;5;28;01mTrue\u001b[39;00m)\n",
      "\u001b[0;31mTypeError\u001b[0m: sample_sdf_near_surface() got an unexpected keyword argument 'unit_sphere_scaler'"
     ]
    }
   ],
   "source": [
    "objs_dict = np.load(os.path.join(os.path.dirname(results.__file__), 'objs_dict.npy'), allow_pickle=True).item()\n",
    "samples_dict = dict()\n",
    "scatters = []\n",
    "number_of_points=5000\n",
    "\n",
    "for obj_idx in list(objs_dict.keys())[0:2]:\n",
    "    samples_dict[obj_idx] = dict()\n",
    "    mesh = trimesh.Trimesh(objs_dict[obj_idx]['verts'], objs_dict[obj_idx]['faces'])\n",
    "    \n",
    "    points, sdf = sample_sdf_near_surface(mesh, number_of_points=number_of_points, sign_method='depth')\n",
    "    scatters.append(go.Scatter3d(\n",
    "                     x=points[:, 0], \n",
    "                     y=points[:, 1],\n",
    "                     z=points[:, 2], \n",
    "                     mode='markers', marker=dict(size=2, color='darkblue'),\n",
    "                     name='unit_sphere'\n",
    "                ))\n",
    "    \n",
    "    points, sdf = sample_sdf_near_surface(mesh, number_of_points=number_of_points, sign_method='depth', unit_sphere_scaler=False)\n",
    "    scatters.append(go.Scatter3d(\n",
    "                     x=points[:, 0], \n",
    "                     y=points[:, 1],\n",
    "                     z=points[:, 2], \n",
    "                     mode='markers', marker=dict(size=2, color='lightblue'),\n",
    "                     name='none'\n",
    "                ))\n",
    "    \n",
    "    points, sdf = sample_sdf_near_surface(mesh, number_of_points=number_of_points, sign_method='depth', unit_cube_scaler=True)\n",
    "    scatters.append(go.Scatter3d(\n",
    "                     x=points[:, 0], \n",
    "                     y=points[:, 1],\n",
    "                     z=points[:, 2], \n",
    "                     mode='markers', marker=dict(size=2, color='orange'),\n",
    "                     name='unit_cube'\n",
    "                ))\n",
    "    \n",
    "    fig = go.Figure(scatters)\n",
    "    fig.show()"
   ]
  },
  {
   "cell_type": "code",
   "execution_count": 8,
   "id": "71344a31",
   "metadata": {},
   "outputs": [
    {
     "data": {
      "text/plain": [
       "TrackedArray([[-0.00328553,  0.1601998 ,  0.70167664],\n",
       "              [-0.00328553,  0.1601998 ,  0.992553  ],\n",
       "              [ 0.16019925,  0.003285  ,  0.70167664],\n",
       "              ...,\n",
       "              [-0.13086742, -0.00268368,  0.68678362],\n",
       "              [-0.13086742, -0.00268368,  0.72331809],\n",
       "              [-0.13086742, -0.00268368,  0.67968587]])"
      ]
     },
     "execution_count": 8,
     "metadata": {},
     "output_type": "execute_result"
    }
   ],
   "source": [
    "mesh.vertices"
   ]
  },
  {
   "cell_type": "code",
   "execution_count": 7,
   "id": "ac897a60",
   "metadata": {},
   "outputs": [
    {
     "data": {
      "text/plain": [
       "array([0.71973945, 1.00540352, 0.71973933, 1.00540343, 0.71973931,\n",
       "       1.00540342, 0.71973933, 1.00540343, 0.7197395 , 1.00540356,\n",
       "       0.71973953, 1.00540357, 0.71973944, 1.00540351, 0.71973957,\n",
       "       1.0054036 , 1.01225381, 1.01225406, 1.01225396, 1.01225389,\n",
       "       1.01225387, 1.01225389, 0.71973956, 1.0054036 , 0.71973934,\n",
       "       1.00540344, 1.01225395, 1.01225384, 1.01225379, 0.71973936,\n",
       "       1.00540346, 1.01225378, 0.71973947, 1.00540354, 0.71973935,\n",
       "       1.00540345, 1.01225396, 1.01225384, 0.71973943, 1.00540351,\n",
       "       0.71973942, 1.0054035 , 1.01225392, 1.01225379, 0.71973928,\n",
       "       1.0054034 , 0.71973936, 1.00540346, 1.01225395, 1.01225394,\n",
       "       0.7197394 , 1.00540349, 0.71973924, 1.00540337, 1.01225384,\n",
       "       1.01225399, 1.01225389, 0.7197394 , 1.00540349, 0.7197395 ,\n",
       "       1.00540355, 0.71973951, 1.00540356, 1.01225395, 1.01225388,\n",
       "       1.01225383, 0.71973942, 1.0054035 , 0.71973943, 1.00540351,\n",
       "       1.01225384, 1.01225395, 0.53980956, 0.53980941, 0.94378867,\n",
       "       0.94378858, 0.30780133, 0.30780107, 0.66660269, 0.66660257,\n",
       "       0.5398091 , 0.53980895, 0.94378841, 0.94378832, 0.30780053,\n",
       "       0.30780027, 0.66660232, 0.6666022 , 0.58576815, 0.58576815,\n",
       "       0.97080741, 0.97080741, 0.38271612, 0.38271612, 0.70433594,\n",
       "       0.70433594, 0.65653878, 0.65653878, 1.05133436, 1.05133436,\n",
       "       0.56494025, 0.56494025, 0.95838415, 0.95838415, 0.35000683,\n",
       "       0.35000684, 0.68711154, 0.68711155, 0.59728162, 0.59728161,\n",
       "       0.23890158, 0.23890157, 0.6111426 , 0.61114256, 0.98632549,\n",
       "       0.98632547, 0.42052655, 0.4205265 , 0.72557568, 0.72557565,\n",
       "       0.60236878, 0.60236859, 0.60543355, 0.6054333 , 0.25860861,\n",
       "       0.25860804, 0.599873  , 0.59987315, 0.54941113, 0.54941113,\n",
       "       0.94931306, 0.94931306, 0.32434534, 0.32434532, 0.6744015 ,\n",
       "       0.6744015 , 0.59153922, 0.5915391 , 1.0120175 , 1.01201743,\n",
       "       0.59153922, 0.5915391 , 1.0120175 , 1.01201743, 0.59794498,\n",
       "       0.59794498, 0.58894611, 1.01050398, 0.60543355, 0.6054333 ,\n",
       "       0.25860861, 0.25860804, 0.59922362, 0.59922362, 1.01652827,\n",
       "       1.01652827, 0.65856968, 0.65856971, 0.36611837, 0.36611843,\n",
       "       0.59728162, 0.59728161, 0.23890158, 0.23890157, 0.56494025,\n",
       "       0.56494025, 0.95838415, 0.95838415, 0.35000683, 0.35000684,\n",
       "       0.68711154, 0.68711155, 0.60325031, 0.60325031, 0.61172782,\n",
       "       0.61172782, 1.02394907, 1.02394907, 0.59452977, 0.23193595,\n",
       "       0.63658596, 0.63658598, 0.32491587, 0.3249159 , 0.64026911,\n",
       "       0.64026911, 1.00463288, 1.00463288, 0.46183529, 0.46183529,\n",
       "       0.75027283, 0.75027283, 0.67529194, 0.67529194, 0.39540845,\n",
       "       0.39540845, 0.64942715, 0.64942715, 1.04690802, 1.04690802,\n",
       "       0.53655894, 0.94193322, 0.30206422, 0.6639731 , 0.59548541,\n",
       "       0.61868666, 0.61868666, 0.28827386, 0.28827387, 0.61868693,\n",
       "       0.61868694, 0.28827445, 0.28827446, 0.5954853 , 0.64942726,\n",
       "       0.64942726, 1.04690808, 1.04690808, 0.63658573, 0.63658575,\n",
       "       0.32491543, 0.32491545, 0.59657563, 0.59657571, 0.59452943,\n",
       "       0.23193507, 0.62863441, 0.62863484, 1.03413829, 1.03413855,\n",
       "       0.61172761, 0.61172762, 1.02394895, 1.02394895, 0.60325027,\n",
       "       0.60325027, 0.59575749, 0.59575749, 0.60283238, 0.60283237,\n",
       "       0.59922386, 0.59922385, 1.01652841, 1.01652841, 0.65856985,\n",
       "       0.65856988, 0.36611867, 0.36611873, 0.59575749, 0.59575749,\n",
       "       0.58894585, 1.01050383, 0.59794507, 0.59794507, 0.59657563,\n",
       "       0.59657571, 0.62863441, 0.62863484, 1.03413829, 1.03413855,\n",
       "       0.54941071, 0.5494107 , 0.94931281, 0.94931281, 0.32434461,\n",
       "       0.3243446 , 0.67440115, 0.67440115, 0.59987307, 0.59987322,\n",
       "       0.60236873, 0.60236854, 0.61114285, 0.61114281, 0.98632564,\n",
       "       0.98632562, 0.42052691, 0.42052686, 0.72557589, 0.72557586,\n",
       "       0.53655894, 0.94193322, 0.30206422, 0.6639731 , 0.65653869,\n",
       "       0.65653869, 1.05133431, 1.05133431, 0.58576783, 0.58576783,\n",
       "       0.97080721, 0.97080721, 0.38271563, 0.38271563, 0.70433568,\n",
       "       0.70433568, 0.67529194, 0.67529194, 0.39540845, 0.39540845,\n",
       "       0.64026911, 0.64026911, 1.00463288, 1.00463288, 0.46183529,\n",
       "       0.46183529, 0.75027283, 0.75027283, 0.70522798, 0.69831773,\n",
       "       0.70522785, 0.6983176 , 0.70522784, 0.69831759, 0.70522786,\n",
       "       0.69831761, 0.58555345, 0.69914616, 0.73506645, 0.6921752 ,\n",
       "       0.58555312, 0.69914589, 0.73506619, 0.69217492, 0.70522804,\n",
       "       0.69831779, 0.70522806, 0.69831781, 0.70522797, 0.69831772,\n",
       "       0.7052281 , 0.69831785, 0.58555322, 0.69914597, 0.73506626,\n",
       "       0.692175  , 0.5855531 , 0.69914586, 0.73506616, 0.6921749 ,\n",
       "       0.58555322, 0.69914597, 0.73506627, 0.692175  , 0.58555326,\n",
       "       0.699146  , 0.73506629, 0.69217503, 0.7052281 , 0.69831785,\n",
       "       0.70522786, 0.69831761, 0.58555341, 0.69914613, 0.73506642,\n",
       "       0.69217516, 0.58555312, 0.69914588, 0.73506618, 0.69217491,\n",
       "       0.58555323, 0.69914597, 0.73506627, 0.69217501, 0.70522789,\n",
       "       0.69831764, 0.58555321, 0.69914595, 0.73506625, 0.69217499,\n",
       "       0.58555322, 0.69914597, 0.73506627, 0.692175  , 0.58555333,\n",
       "       0.69914606, 0.73506635, 0.69217509, 0.70522801, 0.69831776,\n",
       "       0.70522788, 0.69831763, 0.70522797, 0.69831771, 0.70522795,\n",
       "       0.6983177 , 0.58555322, 0.69914596, 0.73506626, 0.692175  ,\n",
       "       0.58555322, 0.69914596, 0.73506626, 0.692175  , 0.70522781,\n",
       "       0.69831756, 0.70522789, 0.69831764, 0.58555326, 0.699146  ,\n",
       "       0.7350663 , 0.69217503, 0.58555329, 0.69914603, 0.73506632,\n",
       "       0.69217506, 0.58555326, 0.699146  , 0.73506629, 0.69217503,\n",
       "       0.70522793, 0.69831768, 0.70522776, 0.69831751, 0.58555335,\n",
       "       0.69914608, 0.73506637, 0.69217511, 0.58555318, 0.69914593,\n",
       "       0.73506623, 0.69217497, 0.70522793, 0.69831768, 0.70522803,\n",
       "       0.69831778, 0.58555329, 0.69914602, 0.73506632, 0.69217506,\n",
       "       0.70522804, 0.69831779, 0.58555321, 0.69914596, 0.73506626,\n",
       "       0.69217499, 0.58555338, 0.6991461 , 0.73506639, 0.69217514,\n",
       "       0.70522795, 0.6983177 , 0.58555322, 0.69914596, 0.73506626,\n",
       "       0.692175  , 0.70522796, 0.69831771, 0.58555334, 0.69914606,\n",
       "       0.73506635, 0.6921751 ])"
      ]
     },
     "execution_count": 7,
     "metadata": {},
     "output_type": "execute_result"
    }
   ],
   "source": [
    "np.linalg.norm(mesh.vertices, axis=1)"
   ]
  },
  {
   "cell_type": "code",
   "execution_count": null,
   "id": "9b449e72",
   "metadata": {},
   "outputs": [],
   "source": []
  }
 ],
 "metadata": {
  "kernelspec": {
   "display_name": "Python 3 (ipykernel)",
   "language": "python",
   "name": "python3"
  },
  "language_info": {
   "codemirror_mode": {
    "name": "ipython",
    "version": 3
   },
   "file_extension": ".py",
   "mimetype": "text/x-python",
   "name": "python",
   "nbconvert_exporter": "python",
   "pygments_lexer": "ipython3",
   "version": "3.8.13"
  }
 },
 "nbformat": 4,
 "nbformat_minor": 5
}
