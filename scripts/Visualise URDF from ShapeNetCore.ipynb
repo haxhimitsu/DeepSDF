{
 "cells": [
  {
   "cell_type": "code",
   "execution_count": 1,
   "id": "6bf41ada",
   "metadata": {},
   "outputs": [
    {
     "name": "stderr",
     "output_type": "stream",
     "text": [
      "pybullet build time: Aug 27 2022 18:18:13\n"
     ]
    }
   ],
   "source": [
    "from data_making.extract_urdf import load_save_objects\n",
    "import os\n",
    "import trimesh\n",
    "import meshplot as mp\n",
    "import data.ShapeNetCoreV2 as ShapeNetCoreV2"
   ]
  },
  {
   "cell_type": "markdown",
   "id": "52787b82",
   "metadata": {},
   "source": [
    "Plot the objects of the ShapeNetCoreV2 dataset, and the objects normalised by the mesh-to-sdf function:"
   ]
  },
  {
   "cell_type": "code",
   "execution_count": 3,
   "id": "b0656d9f",
   "metadata": {},
   "outputs": [
    {
     "name": "stdout",
     "output_type": "stream",
     "text": [
      "02942699/1ab3abb5c090d9b68e940c4e64a94e1e\n"
     ]
    },
    {
     "data": {
      "application/vnd.jupyter.widget-view+json": {
       "model_id": "ad59ba79c2c746ebb6506e97e098aa89",
       "version_major": 2,
       "version_minor": 0
      },
      "text/plain": [
       "Renderer(camera=PerspectiveCamera(children=(DirectionalLight(color='white', intensity=0.6, position=(-0.006241…"
      ]
     },
     "metadata": {},
     "output_type": "display_data"
    },
    {
     "name": "stdout",
     "output_type": "stream",
     "text": [
      "02942699/2c0b4e318766e01723cd81bf29b64a1\n"
     ]
    },
    {
     "data": {
      "application/vnd.jupyter.widget-view+json": {
       "model_id": "c8ba78d5df724c8c990f431361f45e3e",
       "version_major": 2,
       "version_minor": 0
      },
      "text/plain": [
       "Renderer(camera=PerspectiveCamera(children=(DirectionalLight(color='white', intensity=0.6, position=(-0.015912…"
      ]
     },
     "metadata": {},
     "output_type": "display_data"
    },
    {
     "name": "stdout",
     "output_type": "stream",
     "text": [
      "02942699/1cc93f96ad5e16a85d3f270c1c35f1c7\n"
     ]
    },
    {
     "data": {
      "application/vnd.jupyter.widget-view+json": {
       "model_id": "d31dd7252610462f8712f1ff03ae597e",
       "version_major": 2,
       "version_minor": 0
      },
      "text/plain": [
       "Renderer(camera=PerspectiveCamera(children=(DirectionalLight(color='white', intensity=0.6, position=(-0.000204…"
      ]
     },
     "metadata": {},
     "output_type": "display_data"
    },
    {
     "name": "stdout",
     "output_type": "stream",
     "text": [
      "03636649/1a5ebc8575a4e5edcc901650bbbbb0b5\n"
     ]
    },
    {
     "data": {
      "application/vnd.jupyter.widget-view+json": {
       "model_id": "7913c851cc284502a874648c767a243b",
       "version_major": 2,
       "version_minor": 0
      },
      "text/plain": [
       "Renderer(camera=PerspectiveCamera(children=(DirectionalLight(color='white', intensity=0.6, position=(-0.010396…"
      ]
     },
     "metadata": {},
     "output_type": "display_data"
    },
    {
     "name": "stdout",
     "output_type": "stream",
     "text": [
      "03636649/1a9c1cbf1ca9ca24274623f5a5d0bcdc\n"
     ]
    },
    {
     "data": {
      "application/vnd.jupyter.widget-view+json": {
       "model_id": "492548d63cc44c9b8917914240348d6b",
       "version_major": 2,
       "version_minor": 0
      },
      "text/plain": [
       "Renderer(camera=PerspectiveCamera(children=(DirectionalLight(color='white', intensity=0.6, position=(2.0042061…"
      ]
     },
     "metadata": {},
     "output_type": "display_data"
    },
    {
     "name": "stdout",
     "output_type": "stream",
     "text": [
      "03636649/1a6a520652aa2244146fa8a09fad6c38\n"
     ]
    },
    {
     "data": {
      "application/vnd.jupyter.widget-view+json": {
       "model_id": "6334d78e647e4a3788d802d175a5b93d",
       "version_major": 2,
       "version_minor": 0
      },
      "text/plain": [
       "Renderer(camera=PerspectiveCamera(children=(DirectionalLight(color='white', intensity=0.6, position=(0.0071690…"
      ]
     },
     "metadata": {},
     "output_type": "display_data"
    },
    {
     "name": "stdout",
     "output_type": "stream",
     "text": [
      "03797390/1ae1ba5dfb2a085247df6165146d5bbd\n"
     ]
    },
    {
     "data": {
      "application/vnd.jupyter.widget-view+json": {
       "model_id": "3198e34816bf4360b2181941dba933b2",
       "version_major": 2,
       "version_minor": 0
      },
      "text/plain": [
       "Renderer(camera=PerspectiveCamera(children=(DirectionalLight(color='white', intensity=0.6, position=(-6.449967…"
      ]
     },
     "metadata": {},
     "output_type": "display_data"
    },
    {
     "name": "stdout",
     "output_type": "stream",
     "text": [
      "03797390/1a97f3c83016abca21d0de04f408950f\n"
     ]
    },
    {
     "data": {
      "application/vnd.jupyter.widget-view+json": {
       "model_id": "8c74fc995eeb48b4a1f644d23d6330ed",
       "version_major": 2,
       "version_minor": 0
      },
      "text/plain": [
       "Renderer(camera=PerspectiveCamera(children=(DirectionalLight(color='white', intensity=0.6, position=(5.0663948…"
      ]
     },
     "metadata": {},
     "output_type": "display_data"
    },
    {
     "name": "stdout",
     "output_type": "stream",
     "text": [
      "03797390/1a1c0a8d4bad82169f0594e65f756cf5\n"
     ]
    },
    {
     "data": {
      "application/vnd.jupyter.widget-view+json": {
       "model_id": "cdf9c98e402f41baa78484928d01c4c5",
       "version_major": 2,
       "version_minor": 0
      },
      "text/plain": [
       "Renderer(camera=PerspectiveCamera(children=(DirectionalLight(color='white', intensity=0.6, position=(-0.000213…"
      ]
     },
     "metadata": {},
     "output_type": "display_data"
    },
    {
     "name": "stdout",
     "output_type": "stream",
     "text": [
      "02876657/1ae823260851f7d9ea600d1a6d9f6e07\n"
     ]
    },
    {
     "data": {
      "application/vnd.jupyter.widget-view+json": {
       "model_id": "eead7cb62b894cbd842bd3a34ac5a0ad",
       "version_major": 2,
       "version_minor": 0
      },
      "text/plain": [
       "Renderer(camera=PerspectiveCamera(children=(DirectionalLight(color='white', intensity=0.6, position=(0.0, 0.0,…"
      ]
     },
     "metadata": {},
     "output_type": "display_data"
    }
   ],
   "source": [
    "objs_dict = load_objects(dataset='ShapeNetCore')\n",
    "\n",
    "scale = 0.1\n",
    "\n",
    "for i in list(objs_dict.keys())[:10]:\n",
    "    \n",
    "    verts_urdf = objs_dict[i]['verts']\n",
    "    faces_urdf = objs_dict[i]['faces']    \n",
    "    \n",
    "    print(i)\n",
    "    mp.plot(verts_urdf, faces_urdf)"
   ]
  },
  {
   "cell_type": "markdown",
   "id": "4e68c70d",
   "metadata": {},
   "source": [
    "### Different scales"
   ]
  },
  {
   "cell_type": "code",
   "execution_count": null,
   "id": "e2ded2ab",
   "metadata": {},
   "outputs": [],
   "source": [
    "obj_dir = os.path.dirname(objects.__file__)\n",
    "objs_dict = load_save_objects(obj_dir)\n",
    "\n",
    "# Ratio URDF to DeepSDF for Object A \n",
    "obj_id = list(objs_dict.keys())[2]\n",
    "\n",
    "verts_urdf = objs_dict[obj_id]['verts']\n",
    "faces_urdf = objs_dict[obj_id]['faces']    \n",
    "\n",
    "mesh_urdf_1 = trimesh.Trimesh(verts_urdf, faces_urdf)\n",
    "\n",
    "ratio_1 = utils_mesh.get_ratio_urdf_deepsdf(mesh_urdf_1)\n",
    "\n",
    "# Ratio URDF to DeepSDF for Object B\n",
    "obj_id = list(objs_dict.keys())[1]\n",
    "\n",
    "verts_urdf = objs_dict[obj_id]['verts']\n",
    "faces_urdf = objs_dict[obj_id]['faces']    \n",
    "\n",
    "mesh_urdf_2 = trimesh.Trimesh(verts_urdf, faces_urdf)\n",
    "\n",
    "ratio_2 = utils_mesh.get_ratio_urdf_deepsdf(mesh_urdf_2)\n",
    "\n",
    "print(f\"The two ratios are: {ratio_1:.3f} and {ratio_2:.3f}\")"
   ]
  },
  {
   "cell_type": "code",
   "execution_count": null,
   "id": "be616429",
   "metadata": {},
   "outputs": [],
   "source": [
    "# Sample some uniform points and some normally distributed around the surface as proposed in the DeepSDF paper\n",
    "def sample_sdf_near_surface_2(mesh, number_of_points = 500000, surface_point_method='scan', sign_method='normal', scan_count=100, scan_resolution=400, sample_point_count=10000000, normal_sample_count=11, min_size=0, return_gradients=False, ratio=None):\n",
    "    mesh = mesh_to_sdf.scale_to_unit_cube(mesh)\n",
    "\n",
    "    surface_point_cloud = mesh_to_sdf.get_surface_point_cloud(mesh, surface_point_method, 1, scan_count, scan_resolution, sample_point_count, calculate_normals=sign_method=='normal' or return_gradients)\n",
    "\n",
    "    return surface_point_cloud.sample_sdf_near_surface(number_of_points, surface_point_method=='scan', sign_method, normal_sample_count, min_size, return_gradients)"
   ]
  },
  {
   "cell_type": "code",
   "execution_count": null,
   "id": "37b5b9b8",
   "metadata": {},
   "outputs": [],
   "source": [
    "points_1 = mesh_to_sdf.sample_sdf_near_surface(mesh_urdf_1, number_of_points = 50000, auto_scaling=False, scale_ratio = 1.3)[0]\n",
    "points_2 = mesh_to_sdf.sample_sdf_near_surface(mesh_urdf_2, number_of_points = 50000, auto_scaling=False, scale_ratio = 1.3)[0]\n",
    "\n",
    "fig = go.Figure(\n",
    "            [  go.Scatter3d(\n",
    "                     x=points_1[:, 0], \n",
    "                     y=points_1[:, 1],\n",
    "                     z=points_1[:, 2], \n",
    "                     mode='markers', marker=dict(size=1, color='darkblue'),\n",
    "                     name='mesh_1'\n",
    "                ),\n",
    "                 go.Scatter3d(\n",
    "                     x=points_2[:, 0], \n",
    "                     y=points_2[:, 1],\n",
    "                     z=points_2[:, 2], \n",
    "                     mode='markers', marker=dict(size=1, color='orange'),\n",
    "                     name='mesh_2'\n",
    "                )\n",
    "            ]\n",
    "        )\n",
    "fig.show()"
   ]
  },
  {
   "cell_type": "code",
   "execution_count": null,
   "id": "61a2bc91",
   "metadata": {},
   "outputs": [],
   "source": []
  }
 ],
 "metadata": {
  "kernelspec": {
   "display_name": "Python 3 (ipykernel)",
   "language": "python",
   "name": "python3"
  },
  "language_info": {
   "codemirror_mode": {
    "name": "ipython",
    "version": 3
   },
   "file_extension": ".py",
   "mimetype": "text/x-python",
   "name": "python",
   "nbconvert_exporter": "python",
   "pygments_lexer": "ipython3",
   "version": "3.8.13"
  },
  "vscode": {
   "interpreter": {
    "hash": "34beedc6643eb3ce072f676c3a0d6d835447e956a02a2bbd426bf24a631e4f94"
   }
  }
 },
 "nbformat": 4,
 "nbformat_minor": 5
}
