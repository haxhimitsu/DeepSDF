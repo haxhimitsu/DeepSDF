{
 "cells": [
  {
   "cell_type": "code",
   "execution_count": 13,
   "id": "1eea0bc9",
   "metadata": {},
   "outputs": [],
   "source": [
    "import numpy as np\n",
    "import os\n",
    "import results"
   ]
  },
  {
   "cell_type": "code",
   "execution_count": 14,
   "id": "371c0073",
   "metadata": {},
   "outputs": [],
   "source": [
    "path = os.path.join(os.path.dirname(results.__file__), 'runs', '24_11_160005', 'results.npy')\n",
    "dictionary = np.load(path, allow_pickle=True).item()"
   ]
  },
  {
   "cell_type": "code",
   "execution_count": 15,
   "id": "cb91b842",
   "metadata": {},
   "outputs": [],
   "source": [
    "dictionary['train']['best_latent_codes'] = dictionary['train']['latent_codes'][-1]"
   ]
  },
  {
   "cell_type": "code",
   "execution_count": 16,
   "id": "2bb8bdf7",
   "metadata": {},
   "outputs": [],
   "source": [
    "np.save(path, dictionary)"
   ]
  },
  {
   "cell_type": "code",
   "execution_count": 12,
   "id": "cf76477c",
   "metadata": {},
   "outputs": [
    {
     "data": {
      "text/plain": [
       "numpy.ndarray"
      ]
     },
     "execution_count": 12,
     "metadata": {},
     "output_type": "execute_result"
    }
   ],
   "source": [
    "type(dictionary['train']['best_latent_codes'])"
   ]
  },
  {
   "cell_type": "code",
   "execution_count": null,
   "id": "3c5c8ffc",
   "metadata": {},
   "outputs": [],
   "source": []
  }
 ],
 "metadata": {
  "kernelspec": {
   "display_name": "Python 3 (ipykernel)",
   "language": "python",
   "name": "python3"
  },
  "language_info": {
   "codemirror_mode": {
    "name": "ipython",
    "version": 3
   },
   "file_extension": ".py",
   "mimetype": "text/x-python",
   "name": "python",
   "nbconvert_exporter": "python",
   "pygments_lexer": "ipython3",
   "version": "3.8.13"
  }
 },
 "nbformat": 4,
 "nbformat_minor": 5
}
