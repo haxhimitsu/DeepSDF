{
 "cells": [
  {
   "cell_type": "markdown",
   "id": "ffe424a2",
   "metadata": {},
   "source": [
    "# Analyse dataset touch charts\n",
    "\n",
    "In this notebook I analyse the touch charts dataset by visualising the tactile image and corresponding point cloud."
   ]
  },
  {
   "cell_type": "code",
   "execution_count": 4,
   "id": "be50956f",
   "metadata": {},
   "outputs": [],
   "source": [
    "import numpy as np\n",
    "import results\n",
    "import os\n",
    "import plotly.graph_objects as go\n",
    "from data_making.dataset_touch import TouchChartDataset\n",
    "import matplotlib.pyplot as plt\n",
    "%matplotlib qt"
   ]
  },
  {
   "cell_type": "markdown",
   "id": "64301d32",
   "metadata": {},
   "source": [
    "Create dataset:"
   ]
  },
  {
   "cell_type": "code",
   "execution_count": 5,
   "id": "630021cd",
   "metadata": {},
   "outputs": [],
   "source": [
    "touch_charts_path = os.path.join(os.path.dirname(results.__file__), 'touch_charts_gt.npy')\n",
    "dataset = TouchChartDataset(touch_charts_path)"
   ]
  },
  {
   "cell_type": "markdown",
   "id": "5ea9edcd",
   "metadata": {},
   "source": [
    "Plot tactile image and interactive point cloud:"
   ]
  },
  {
   "cell_type": "code",
   "execution_count": 6,
   "id": "2bdb033d",
   "metadata": {},
   "outputs": [],
   "source": [
    "for i in range(10):\n",
    "    tactile_img = dataset[i][0]     # (1, 256, 256)\n",
    "    pointcloud = dataset[i][1]      # (500, 3)\n",
    "    \n",
    "    fig = plt.figure(figsize=(15, 15))\n",
    "    \n",
    "    # =============\n",
    "    # First subplot\n",
    "    # =============\n",
    "    ax = fig.add_subplot(1, 2, 1)\n",
    "    ax.imshow(tactile_img[0], cmap='gray', vmin=0, vmax=1)\n",
    "    \n",
    "    # =============\n",
    "    # Second subplot\n",
    "    # =============    \n",
    "    ax = fig.add_subplot(1, 2, 2, projection='3d')\n",
    "    x = pointcloud[:, 0]\n",
    "    y = pointcloud[:, 1]\n",
    "    z = pointcloud[:, 2]\n",
    "    ax.scatter(x, y, z)\n",
    "\n",
    "    plt.show()"
   ]
  }
 ],
 "metadata": {
  "kernelspec": {
   "display_name": "Python 3 (ipykernel)",
   "language": "python",
   "name": "python3"
  },
  "language_info": {
   "codemirror_mode": {
    "name": "ipython",
    "version": 3
   },
   "file_extension": ".py",
   "mimetype": "text/x-python",
   "name": "python",
   "nbconvert_exporter": "python",
   "pygments_lexer": "ipython3",
   "version": "3.8.13"
  }
 },
 "nbformat": 4,
 "nbformat_minor": 5
}
