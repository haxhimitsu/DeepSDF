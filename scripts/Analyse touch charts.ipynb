{
 "cells": [
  {
   "cell_type": "markdown",
   "id": "cd5d8d37",
   "metadata": {},
   "source": [
    "# Analyse touch chart\n",
    "in this notebook, I check that the collected touch charts are correct. this means, the touch charts need to be lying onto the object surface once transdlated from workframe to worldframe."
   ]
  },
  {
   "cell_type": "code",
   "execution_count": 1,
   "id": "b1ac4635",
   "metadata": {},
   "outputs": [
    {
     "name": "stderr",
     "output_type": "stream",
     "text": [
      "pybullet build time: Aug 27 2022 18:18:13\n"
     ]
    }
   ],
   "source": [
    "import numpy as np\n",
    "import results\n",
    "import os\n",
    "import plotly.graph_objects as go\n",
    "import trimesh\n",
    "from utils import utils_mesh\n",
    "import pybullet as pb\n",
    "from utils import utils_raycasting, utils_mesh\n",
    "from data import objects\n"
   ]
  },
  {
   "cell_type": "markdown",
   "id": "65555187",
   "metadata": {},
   "source": [
    "Load the dictionary:"
   ]
  },
  {
   "cell_type": "code",
   "execution_count": 2,
   "id": "2b32df7c",
   "metadata": {},
   "outputs": [],
   "source": [
    "touch_charts_dict_path = os.path.join(os.path.dirname(results.__file__), 'touch_charts_gt.npy')\n",
    "touch_charts_dict = np.load(touch_charts_dict_path, allow_pickle=True).item()"
   ]
  },
  {
   "cell_type": "code",
   "execution_count": 3,
   "id": "98dee94e",
   "metadata": {},
   "outputs": [
    {
     "data": {
      "text/plain": [
       "dict_keys(['verts', 'tactile_imgs', 'pointclouds', 'rot_M_wrld_list', 'pos_wrld_list', 'pos_wrk_list', 'obj_index', 'initial_pos'])"
      ]
     },
     "execution_count": 3,
     "metadata": {},
     "output_type": "execute_result"
    }
   ],
   "source": [
    "touch_charts_dict.keys()"
   ]
  },
  {
   "cell_type": "markdown",
   "id": "0d646ab5",
   "metadata": {},
   "source": [
    "Let's visualise the pointclouds sampled on the object:"
   ]
  },
  {
   "cell_type": "code",
   "execution_count": 4,
   "id": "c13ef646",
   "metadata": {},
   "outputs": [],
   "source": [
    "objs_dict_path = os.path.join(os.path.dirname(results.__file__), 'objs_dict.npy')\n",
    "objs_dict = np.load(objs_dict_path, allow_pickle=True).item()"
   ]
  },
  {
   "cell_type": "code",
   "execution_count": 5,
   "id": "312e89eb",
   "metadata": {},
   "outputs": [
    {
     "data": {
      "text/plain": [
       "dict_keys(['3398', '3763', '102505', '100435', '100466', '100468', '102763', '3618', '3616', '102431', '102408', '3635', '3517', '103062', '3519', '103030', '103064', '3520', '103016', '100439', '3596', '100465', '102506', '100438', '100749', '3678', '3614', '3625', '3822', '102417', '3615', '102432', '3655', '102434', '102523', '101352', '3571', '101362'])"
      ]
     },
     "execution_count": 5,
     "metadata": {},
     "output_type": "execute_result"
    }
   ],
   "source": [
    "objs_dict.keys()"
   ]
  },
  {
   "cell_type": "code",
   "execution_count": 6,
   "id": "0f38936e",
   "metadata": {},
   "outputs": [
    {
     "ename": "IndexError",
     "evalue": "index 1 is out of bounds for axis 0 with size 1",
     "output_type": "error",
     "traceback": [
      "\u001b[0;31m---------------------------------------------------------------------------\u001b[0m",
      "\u001b[0;31mIndexError\u001b[0m                                Traceback (most recent call last)",
      "Input \u001b[0;32mIn [6]\u001b[0m, in \u001b[0;36m<cell line: 5>\u001b[0;34m()\u001b[0m\n\u001b[1;32m      2\u001b[0m obj_indexes \u001b[38;5;241m=\u001b[39m np\u001b[38;5;241m.\u001b[39munique(touch_charts_dict[\u001b[38;5;124m'\u001b[39m\u001b[38;5;124mobj_index\u001b[39m\u001b[38;5;124m'\u001b[39m])\n\u001b[1;32m      4\u001b[0m \u001b[38;5;66;03m# Let's focus on the first object:\u001b[39;00m\n\u001b[0;32m----> 5\u001b[0m obj_index \u001b[38;5;241m=\u001b[39m \u001b[43mobj_indexes\u001b[49m\u001b[43m[\u001b[49m\u001b[38;5;241;43m1\u001b[39;49m\u001b[43m]\u001b[49m\n\u001b[1;32m      7\u001b[0m \u001b[38;5;66;03m# Load scaled and rotated pointcloud of the object\u001b[39;00m\n\u001b[1;32m      8\u001b[0m obj_path \u001b[38;5;241m=\u001b[39m os\u001b[38;5;241m.\u001b[39mpath\u001b[38;5;241m.\u001b[39mjoin(os\u001b[38;5;241m.\u001b[39mpath\u001b[38;5;241m.\u001b[39mdirname(objects\u001b[38;5;241m.\u001b[39m\u001b[38;5;18m__file__\u001b[39m), obj_index) \n",
      "\u001b[0;31mIndexError\u001b[0m: index 1 is out of bounds for axis 0 with size 1"
     ]
    }
   ],
   "source": [
    "# Indexes of the object in touch_charts_dict\n",
    "obj_indexes = np.unique(touch_charts_dict['obj_index'])\n",
    "\n",
    "# Let's focus on the first object:\n",
    "obj_index = obj_indexes[1]\n",
    "\n",
    "# Load scaled and rotated pointcloud of the object\n",
    "obj_path = os.path.join(os.path.dirname(objects.__file__), obj_index) \n",
    "mesh = utils_mesh.urdf_to_mesh(obj_path)\n",
    "obj_pointcloud = utils_mesh.mesh_to_pointcloud(mesh, n_samples = 5000)\n",
    "obj_pointcloud = utils_mesh.scale_pointcloud(obj_pointcloud, scale=0.1)\n",
    "obj_pointcloud = utils_mesh.rotate_pointcloud(obj_pointcloud)\n",
    "\n",
    "tc_indexes = np.where(touch_charts_dict['obj_index'] == obj_index)[0]\n",
    "\n",
    "tc_pointclouds_wrk = touch_charts_dict['pointclouds'][tc_indexes]\n",
    "pos_wrld_list = touch_charts_dict['pos_wrld_list'][tc_indexes]\n",
    "rot_M_wrld_list = touch_charts_dict['rot_M_wrld_list'][tc_indexes]\n",
    "rot_M_wrld_list = touch_charts_dict['rot_M_wrld_list'][tc_indexes]\n",
    "initial_pos = touch_charts_dict['initial_pos'][tc_indexes][0]\n",
    "\n",
    "tc_pointclouds_wrld = utils_mesh.translate_rotate_mesh(pos_wrld_list, rot_M_wrld_list, tc_pointclouds_wrk, initial_pos)\n",
    "print(tc_pointclouds_wrld.shape)\n",
    "tc_x = tc_pointclouds_wrld[:, :, 0].ravel() \n",
    "tc_y = tc_pointclouds_wrld[:, :, 1].ravel()\n",
    "tc_z = tc_pointclouds_wrld[:, :, 2].ravel() \n",
    "\n",
    "fig = go.Figure(\n",
    "    [\n",
    "        go.Scatter3d(x=obj_pointcloud[:, 0], y=obj_pointcloud[:, 1],z=obj_pointcloud[:, 2], \n",
    "                     mode='markers', marker=dict(size=1)),\n",
    "        go.Scatter3d(x=tc_x, y=tc_y, z=tc_z, \n",
    "                     mode='markers', marker=dict(size=1))\n",
    "    ]\n",
    ")\n",
    "fig.show()    \n",
    "    "
   ]
  },
  {
   "cell_type": "markdown",
   "id": "32536f23",
   "metadata": {},
   "source": [
    "Count the number of points in the point cloud:"
   ]
  },
  {
   "cell_type": "code",
   "execution_count": null,
   "id": "6493bef2",
   "metadata": {},
   "outputs": [],
   "source": []
  }
 ],
 "metadata": {
  "kernelspec": {
   "display_name": "Python 3 (ipykernel)",
   "language": "python",
   "name": "python3"
  },
  "language_info": {
   "codemirror_mode": {
    "name": "ipython",
    "version": 3
   },
   "file_extension": ".py",
   "mimetype": "text/x-python",
   "name": "python",
   "nbconvert_exporter": "python",
   "pygments_lexer": "ipython3",
   "version": "3.8.13"
  }
 },
 "nbformat": 4,
 "nbformat_minor": 5
}
