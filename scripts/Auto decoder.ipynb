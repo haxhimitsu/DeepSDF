{
 "cells": [
  {
   "cell_type": "markdown",
   "id": "3eefa71b",
   "metadata": {},
   "source": [
    "# Simple implementation of an auto-decoder"
   ]
  },
  {
   "cell_type": "code",
   "execution_count": 10,
   "id": "d1fdf4a5",
   "metadata": {},
   "outputs": [],
   "source": [
    "import torch\n",
    "import torch.nn as nn\n",
    "import numpy as np\n",
    "import matplotlib.pyplot as plt\n",
    "from torch.utils.data import DataLoader\n",
    "import matplotlib.animation as animation\n",
    "from IPython.display import HTML\n",
    "%matplotlib inline\n",
    "from copy import deepcopy\n",
    "from sklearn.manifold import TSNE\n",
    "from tqdm import tqdm"
   ]
  },
  {
   "cell_type": "code",
   "execution_count": 2,
   "id": "a508cf6e",
   "metadata": {},
   "outputs": [
    {
     "data": {
      "image/png": "[encoded data removed]",
      "text/plain": [
       "<Figure size 432x288 with 1 Axes>"
      ]
     },
     "metadata": {
      "needs_background": "light"
     },
     "output_type": "display_data"
    }
   ],
   "source": [
    "x1 = np.arange(0, 6, 0.1)\n",
    "y1 = np.exp(x1) + np.random.normal(0, 3, size = x1.shape[0])\n",
    "y2 = -np.exp(x1) + np.random.normal(0, 1, size = x1.shape[0])\n",
    "y3 = np.exp(x1) + 100 + np.random.normal(0, 3, size = x1.shape[0])\n",
    "plt.scatter(x1, y1)\n",
    "plt.scatter(x1, y2)\n",
    "plt.scatter(x1, y3)\n",
    "plt.show()"
   ]
  },
  {
   "cell_type": "code",
   "execution_count": 3,
   "id": "37d59740",
   "metadata": {},
   "outputs": [],
   "source": [
    "class model(nn.Module):\n",
    "    def __init__(self, input_dim, inner_dim=20, output_dim=1):\n",
    "        \"\"\"\n",
    "        Args:\n",
    "            input_dim: 128 for latent space + 3 points = 131\n",
    "        \"\"\"\n",
    "        super(model, self).__init__()\n",
    "        # MLP\n",
    "        layers = []\n",
    "        for _ in range(2):\n",
    "            layers.append(nn.Sequential(nn.Linear(input_dim, inner_dim), nn.ReLU()))\n",
    "            input_dim = inner_dim\n",
    "        layers.append(nn.Sequential(nn.Linear(input_dim, output_dim)))\n",
    "        self.net = nn.Sequential(*layers)\n",
    "\n",
    "    def forward(self, x):\n",
    "        sdf = self.net(x)\n",
    "        return sdf"
   ]
  },
  {
   "cell_type": "code",
   "execution_count": 4,
   "id": "caa4299e",
   "metadata": {},
   "outputs": [],
   "source": [
    "# Problem setting\n",
    "latent_size = 128\n",
    "input_dim = latent_size + 1  # network input\n",
    "num_classes = 3\n",
    "\n",
    "# convert x1 and x2 data points to torch\n",
    "x1_torch = torch.tensor(x1, dtype=torch.float32)\n",
    "\n",
    "# generate latent code\n",
    "latent1_class = torch.full((x1.shape[0], 1), 0, dtype=torch.float32)\n",
    "latent2_class = torch.full((x1.shape[0], 1), 1, dtype=torch.float32)\n",
    "latent3_class = torch.full((x1.shape[0], 1), 2, dtype=torch.float32)\n",
    "\n",
    "# dataset\n",
    "data1 = torch.hstack((latent1_class, x1_torch.view(-1, 1)))\n",
    "data2 = torch.hstack((latent2_class, x1_torch.view(-1, 1)))\n",
    "data3 = torch.hstack((latent3_class, x1_torch.view(-1, 1)))\n",
    "data = torch.vstack((data1, data2, data3))\n",
    "# ground truth\n",
    "gt1 = torch.tensor(y1, dtype=torch.float32).view(-1, 1)\n",
    "gt2 = torch.tensor(y2, dtype=torch.float32).view(-1, 1)\n",
    "gt3 = torch.tensor(y3, dtype=torch.float32).view(-1, 1)\n",
    "gt = torch.vstack((gt1, gt2, gt3))\n",
    "\n",
    "\"\"\"\n",
    "1 col = latent class\n",
    "2 col = x\n",
    "3 col = y\n",
    "\"\"\"\n",
    "data_gt = torch.hstack((data, gt))"
   ]
  },
  {
   "cell_type": "markdown",
   "id": "b4bba442",
   "metadata": {},
   "source": [
    "# Train"
   ]
  },
  {
   "cell_type": "code",
   "execution_count": 5,
   "id": "c0c90532",
   "metadata": {},
   "outputs": [],
   "source": [
    "epochs = 20\n",
    "\n",
    "# initialise latent codes\n",
    "torch.manual_seed(42)\n",
    "latent1 = torch.normal(0, 0.01, size = (1, latent_size), dtype=torch.float32)\n",
    "latent2 = torch.normal(0, 0.01, size = (1, latent_size), dtype=torch.float32)\n",
    "latent3 = torch.normal(0, 0.01, size = (1, latent_size), dtype=torch.float32)\n",
    "unique_latents = torch.vstack((latent1, latent2, latent3))\n",
    "unique_latents.requires_grad_()\n",
    "\n",
    "train_loader = DataLoader(\n",
    "                data_gt,\n",
    "                batch_size=1,\n",
    "                shuffle=True,\n",
    "                drop_last=True)"
   ]
  },
  {
   "cell_type": "code",
   "execution_count": null,
   "id": "373fffa0",
   "metadata": {},
   "outputs": [],
   "source": [
    "unique_latents.shape"
   ]
  },
  {
   "cell_type": "code",
   "execution_count": 6,
   "id": "7f1650a6",
   "metadata": {},
   "outputs": [],
   "source": [
    "def loss_function(gt, predicted, latent, sigma=0.01):\n",
    "    l1 = torch.mean(torch.abs(gt - predicted))\n",
    "    l2 = sigma * torch.sum(torch.pow(latent,2))\n",
    "    loss = l1 + l2\n",
    "    return loss"
   ]
  },
  {
   "cell_type": "code",
   "execution_count": 8,
   "id": "14722348",
   "metadata": {},
   "outputs": [
    {
     "name": "stderr",
     "output_type": "stream",
     "text": [
      "100%|████████████████████████████████████████████████████████████████████████████████████████████████████████████████████████████████████████████████████████████████████████████████████████████████████████| 20/20 [17:55<00:00, 53.80s/it]\n"
     ]
    }
   ],
   "source": [
    "modello = model(input_dim)\n",
    "modello.train()\n",
    "\n",
    "params_dict = dict()\n",
    "for name, params in modello.named_parameters():\n",
    "    params_dict[name] = params.clone()\n",
    "\n",
    "optim1 = torch.optim.SGD(modello.parameters(), lr=0.0005)\n",
    "optim2 = torch.optim.SGD([unique_latents], lr=0.0005)\n",
    "\n",
    "latent_list = np.array([]).reshape(0, num_classes, latent_size)\n",
    "\n",
    "loss_list = []\n",
    "\n",
    "loss = nn.L1Loss()\n",
    "for total_iterations in tqdm(range(0, 20)):\n",
    "    for epoch in range(epochs):\n",
    "        iterations = 0.0\n",
    "        total_loss = 0.0\n",
    "        for batch in train_loader:\n",
    "            optim2.zero_grad()\n",
    "            latent_class = int(batch[:, 0].type(torch.float32).item())\n",
    "            y = batch[:, 2].type(torch.float32)\n",
    "            x = torch.hstack((unique_latents[latent_class], batch[0, 1]))\n",
    "            output = modello(x)\n",
    "            loss_value = loss_function(y, output, unique_latents[latent_class])\n",
    "            loss_value.backward()\n",
    "            for i in range(0, unique_latents.shape[0]):\n",
    "                if i != latent_class:\n",
    "                    unique_latents.grad[i, :].data.zero_()   \n",
    "            optim2.step()\n",
    "            total_loss += loss_value.item()\n",
    "            iterations += 1.0\n",
    "            latent_list = np.vstack((latent_list, unique_latents.detach().cpu()[None, :, :]))\n",
    "        loss_list.append(total_loss/iterations) \n",
    "        \n",
    "    # set gradients to zero\n",
    "    optim2.zero_grad()    \n",
    " \n",
    "    for epoch in range(epochs):\n",
    "        iterations = 0.0\n",
    "        total_loss = 0.0\n",
    "        for batch in train_loader:\n",
    "            optim1.zero_grad()\n",
    "            latent_class = int(batch[:, 0].type(torch.float32).item())\n",
    "            y = batch[:, 2].type(torch.float32)\n",
    "            x = torch.hstack((unique_latents[latent_class], batch[0, 1]))\n",
    "            output = modello(x)\n",
    "            loss_value = loss_function(y, output, unique_latents[latent_class])\n",
    "            loss_value.backward()            \n",
    "            optim1.step()\n",
    "            total_loss += loss_value.item()\n",
    "            iterations += 1.0\n",
    "        loss_list.append(total_loss/iterations)\n",
    "                \n",
    "    optim1.zero_grad()\n",
    "    unique_latents.grad.data.zero_()"
   ]
  },
  {
   "cell_type": "code",
   "execution_count": 9,
   "id": "ec00e444",
   "metadata": {},
   "outputs": [
    {
     "data": {
      "image/png": "[encoded data removed]",
      "text/plain": [
       "<Figure size 432x288 with 1 Axes>"
      ]
     },
     "metadata": {
      "needs_background": "light"
     },
     "output_type": "display_data"
    }
   ],
   "source": [
    "plt.plot(loss_list)\n",
    "plt.show()"
   ]
  },
  {
   "cell_type": "code",
   "execution_count": null,
   "id": "fac21343",
   "metadata": {},
   "outputs": [],
   "source": [
    "latent_list.shape"
   ]
  },
  {
   "cell_type": "code",
   "execution_count": null,
   "id": "42759520",
   "metadata": {},
   "outputs": [],
   "source": [
    "X_embedded = TSNE(n_components=2, learning_rate='auto', init='random', perplexity=20).fit_transform(latent_list[0])\n",
    "plt.scatter(X_embedded[0, 0], X_embedded[0, 1], label='First latent vector first')\n",
    "plt.scatter(X_embedded[1, 0], X_embedded[1, 1], label='Second latent vector first')\n",
    "plt.scatter(X_embedded[2, 0], X_embedded[2, 1], label='Third latent vector first')\n",
    "\n",
    "X_embedded = TSNE(n_components=2, learning_rate='auto', init='random', perplexity=20).fit_transform(latent_list[-1])\n",
    "plt.scatter(X_embedded[0, 0], X_embedded[0, 1], label='First latent vector last')\n",
    "plt.scatter(X_embedded[1, 0], X_embedded[1, 1], label='Second latent vector last')\n",
    "plt.scatter(X_embedded[2, 0], X_embedded[2, 1], label='Third latent vector last')\n",
    "\n",
    "plt.legend()\n",
    "plt.show()"
   ]
  },
  {
   "cell_type": "code",
   "execution_count": null,
   "id": "fb90f4f4",
   "metadata": {},
   "outputs": [],
   "source": [
    "X_embedded[None, :, :]"
   ]
  },
  {
   "cell_type": "code",
   "execution_count": null,
   "id": "7f53172c",
   "metadata": {},
   "outputs": [],
   "source": [
    "a = [[float(item)/float(latent_list.shape[0]), 0, 1] for item in range(latent_list.shape[0])]\n",
    "b = [[float(item)/float(latent_list.shape[0]), 1, 0] for item in range(latent_list.shape[0])]\n",
    "\n",
    "plt.scatter(latent_list[:, 0, 0], latent_list[:, 0, 1], c=a, label='First latent vector')\n",
    "plt.scatter(latent_list[:, 1, 0], latent_list[:, 1, 1], c=b, label='Second latent vector')\n",
    "plt.legend()\n",
    "plt.show()"
   ]
  },
  {
   "cell_type": "markdown",
   "id": "5a4a7853",
   "metadata": {},
   "source": [
    "### Video of latent space"
   ]
  },
  {
   "cell_type": "code",
   "execution_count": null,
   "id": "6466ffdc",
   "metadata": {},
   "outputs": [],
   "source": [
    "# Settings\n",
    "num_steps = latent_list.shape[0]\n",
    "        \n",
    "def animate_scatters(iteration, data, scatter_lc1, scatter_lc2):\n",
    "    \"\"\"\n",
    "    Update the data held by the scatter plot and therefore animates it.\n",
    "    Args:\n",
    "        iteration (int): Current iteration of the animation\n",
    "        data (list): List of the data positions at each iteration.\n",
    "        scatters (list): List of all the scatters (One per element)\n",
    "    Returns:\n",
    "        list: List of scatters (One per element) with new coordinates\n",
    "    \"\"\"\n",
    "    scatter_lc1.set_offsets([data[iteration, 0, 0], data[iteration, 0, 1]])\n",
    "    scatter_lc2.set_offsets([data[iteration, 1, 0], data[iteration, 1, 1]])\n",
    "    return scatter_lc1, scatter_lc2\n",
    "\n",
    "# Attaching 3D axis to the figure\n",
    "fig = plt.figure(figsize=(7, 7))\n",
    "ax = fig.subplots()\n",
    "\n",
    "# Create plots\n",
    "scatter_lc1 = ax.scatter(latent_list[0, 0, 0], latent_list[0, 0, 1], s=40)\n",
    "scatter_lc2 = ax.scatter(latent_list[0, 1, 0], latent_list[0, 1, 1], s=40)\n",
    "\n",
    "# Setting the axes properties\n",
    "ax.set(xlim=(-3, 5), xlabel='X')\n",
    "ax.set(ylim=(-1.5, 1.5), ylabel='Y')\n",
    "\n",
    "# Creating the Animation object\n",
    "anim_gt = animation.FuncAnimation(\n",
    "    fig, animate_scatters, num_steps, fargs=(latent_list, scatter_lc1, scatter_lc2), interval=5)\n",
    "HTML(anim_gt.to_html5_video())"
   ]
  },
  {
   "cell_type": "markdown",
   "id": "1a59121c",
   "metadata": {},
   "source": [
    "# Inference\n",
    "Given a set of x and y, we want to infer corresponding latent code."
   ]
  },
  {
   "cell_type": "code",
   "execution_count": null,
   "id": "316106d9",
   "metadata": {},
   "outputs": [],
   "source": [
    "# initialise latent codes\n",
    "torch.manual_seed(24)\n",
    "\n",
    "# dataset\n",
    "xt1 = np.arange(-1, 5, 0.01)\n",
    "yt1 = np.exp(xt1) + np.random.normal(0, 5, size = xt1.shape[0])\n",
    "# convert x1 and x2 data points to torch\n",
    "xt1_torch = torch.tensor(xt1, dtype=torch.float32).view(-1, 1)\n",
    "# ground truth\n",
    "gtt1 = torch.tensor(yt1, dtype=torch.float32).view(-1, 1)\n",
    "\n",
    "\"\"\"\n",
    "1 col = latent class\n",
    "2 col = x\n",
    "3 col = y\n",
    "\"\"\"\n",
    "data_1 = torch.hstack((xt1_torch, gtt1))\n",
    "print(data_1.shape[0])\n",
    "num_choices = 50\n",
    "indexes = torch.arange(0, data_1.shape[0])\n",
    "rand_indexes = indexes[torch.randint(len(indexes),(num_choices,))] \n",
    "data_test = data_1[rand_indexes]\n",
    "\n",
    "test_loader = DataLoader(\n",
    "                data_test,\n",
    "                batch_size=num_choices,\n",
    "                shuffle=True,\n",
    "                drop_last=True)"
   ]
  },
  {
   "cell_type": "code",
   "execution_count": null,
   "id": "7c894b83",
   "metadata": {},
   "outputs": [],
   "source": [
    "# initialise random latent code\n",
    "test_lc = torch.normal(0, 0.01, size = (1, latent_size), dtype=torch.float32)\n",
    "test_lc.requires_grad_()\n",
    "\n",
    "test_lc_list = np.array([]).reshape(0, latent_size)\n",
    "\n",
    "optim3 = torch.optim.Adam([test_lc], lr=0.0005)\n",
    "\n",
    "loss = nn.L1Loss()\n",
    "\n",
    "loss_list_test = []\n",
    "\n",
    "# set gradients to zero\n",
    "for params in modello.parameters():\n",
    "    params.grad.data.zero_()\n",
    "    \n",
    "for epoch in tqdm(range(50000)):\n",
    "    iterations = 0.0\n",
    "    total_loss = 0.0\n",
    "           \n",
    "    for batch in test_loader:\n",
    "        optim3.zero_grad()\n",
    "        y = batch[:, 1].type(torch.float32).view(-1, 1)\n",
    "        x_partial = batch[:, 0].view(-1, 1)\n",
    "        latent_tile = test_lc.tile(x_partial.shape[0], 1)\n",
    "        x_full = torch.hstack((latent_tile, x_partial))\n",
    "        output = modello(x_full)\n",
    "        loss_value = torch.sum(torch.abs(y - output))# + torch.sum(torch.pow(test_lc,2))\n",
    "        #print('grad before: ', test_lc.grad)\n",
    "        #print('latent code before: ', test_lc)        \n",
    "        loss_value.backward()  \n",
    "        #torch.nn.utils.clip_grad_norm_(test_lc, 10)\n",
    "        optim3.step()\n",
    "        #print('grad after: ', test_lc.grad)\n",
    "        #print('latent code after: ', test_lc)  \n",
    "\n",
    "        total_loss += loss_value.item()\n",
    "        iterations += 1.0\n",
    "        test_lc_list = np.vstack((test_lc_list, test_lc.detach().numpy()))\n",
    "    loss_list_test.append(total_loss/iterations) \n",
    "        \n",
    "    optim3.zero_grad()"
   ]
  },
  {
   "cell_type": "code",
   "execution_count": null,
   "id": "51c7dab3",
   "metadata": {},
   "outputs": [],
   "source": [
    "print(f'regulariser: {1 * torch.sum(torch.pow(test_lc,2))}')\n",
    "print(f'l1: {torch.sum(torch.abs(y - output))}')"
   ]
  },
  {
   "cell_type": "code",
   "execution_count": null,
   "id": "65e52cff",
   "metadata": {},
   "outputs": [],
   "source": [
    "test_lc"
   ]
  },
  {
   "cell_type": "code",
   "execution_count": null,
   "id": "cf3175cb",
   "metadata": {},
   "outputs": [],
   "source": [
    "plt.plot(loss_list_test)\n",
    "plt.show()\n",
    "print(loss_list_test[-1])"
   ]
  },
  {
   "cell_type": "code",
   "execution_count": null,
   "id": "6c3e7bdd",
   "metadata": {},
   "outputs": [],
   "source": [
    "# test\n",
    "optimised_latent_code = torch.tensor(test_lc_list[-1], dtype=torch.float32)\n",
    "# training\n",
    "#optimised_latent_code = torch.tensor(latent_list[-1, 0], dtype=torch.float32)\n",
    "\n",
    "optimised_latent_code_tile = optimised_latent_code.tile(data_test.shape[0], 1)\n",
    "output = modello(torch.hstack((optimised_latent_code_tile, data_test[:, 0].view(-1, 1))))\n",
    "\n",
    "plt.scatter(data_test[:, 0].detach().numpy(), output.detach().numpy())\n",
    "plt.scatter(data_test[:, 0].detach().numpy(), data_test[:, 1].detach().numpy())\n",
    "plt.show()"
   ]
  },
  {
   "cell_type": "code",
   "execution_count": null,
   "id": "c36f2507",
   "metadata": {},
   "outputs": [],
   "source": [
    "optimised_latent_code"
   ]
  },
  {
   "cell_type": "code",
   "execution_count": null,
   "id": "de850cb4",
   "metadata": {},
   "outputs": [],
   "source": [
    "torch.tensor(latent_list[-1, 0], dtype=torch.float32)"
   ]
  },
  {
   "cell_type": "code",
   "execution_count": null,
   "id": "4c8e2420",
   "metadata": {},
   "outputs": [],
   "source": [
    "torch.sum(torch.pow(optimised_latent_code,2))"
   ]
  },
  {
   "cell_type": "code",
   "execution_count": null,
   "id": "74c43541",
   "metadata": {},
   "outputs": [],
   "source": [
    "torch.mean(torch.abs(y - output))"
   ]
  },
  {
   "cell_type": "markdown",
   "id": "2827447a",
   "metadata": {},
   "source": [
    "# Basics"
   ]
  },
  {
   "cell_type": "code",
   "execution_count": 33,
   "id": "7fb1f18b",
   "metadata": {},
   "outputs": [
    {
     "name": "stdout",
     "output_type": "stream",
     "text": [
      "tensor(18.3750, grad_fn=<MseLossBackward>)\n",
      "tensor([[1., 2.],\n",
      "        [3., 4.]], requires_grad=True)\n",
      "tensor([[-2.3750, -1.7500],\n",
      "        [-1.6250, -1.0000]])\n",
      "tensor([[1.0024, 2.0017],\n",
      "        [3.0016, 4.0010]], requires_grad=True)\n"
     ]
    }
   ],
   "source": [
    "l1 = nn.MSELoss()\n",
    "x = torch.tensor([[1.0, 2.0], [3.0, 4.0]], requires_grad=True)\n",
    "optim = torch.optim.SGD([x], lr=0.001)\n",
    "optim.zero_grad()\n",
    "input_tensor_all = torch.vstack((x[:, 0].view(1, 2, 1), x[:, 1].view(1, 2, 1)))\n",
    "input_tensor_1 = x[:, 0].view(1, 2, 1)\n",
    "input_tensor_2 = x[:, 1].view(1, 2, 1)\n",
    "\n",
    "a = torch.tensor([[0.5, 1.5]], requires_grad=True)\n",
    "y = torch.tensor([[6.0], [7.0]])\n",
    "pred = input_tensor_all @ a\n",
    "l1_value = l1(y, pred)\n",
    "print(l1_value)\n",
    "l1_value.backward()\n",
    "\n",
    "print(x)\n",
    "print(x.grad)\n",
    "optim.step()\n",
    "print(x)"
   ]
  },
  {
   "cell_type": "code",
   "execution_count": null,
   "id": "59c4251e",
   "metadata": {},
   "outputs": [],
   "source": [
    "tensor(18.3750, grad_fn=<MseLossBackward>)\n",
    "tensor([[1., 2.],\n",
    "        [3., 4.]], requires_grad=True)\n",
    "tensor([[-2.3750, -1.7500],\n",
    "        [-1.6250, -1.0000]])\n",
    "tensor([[1.0024, 2.0017],\n",
    "        [3.0016, 4.0010]], requires_grad=True)"
   ]
  }
 ],
 "metadata": {
  "kernelspec": {
   "display_name": "Python 3.8.13 ('active_touch')",
   "language": "python",
   "name": "python3"
  },
  "language_info": {
   "codemirror_mode": {
    "name": "ipython",
    "version": 3
   },
   "file_extension": ".py",
   "mimetype": "text/x-python",
   "name": "python",
   "nbconvert_exporter": "python",
   "pygments_lexer": "ipython3",
   "version": "3.8.13"
  },
  "vscode": {
   "interpreter": {
    "hash": "34beedc6643eb3ce072f676c3a0d6d835447e956a02a2bbd426bf24a631e4f94"
   }
  }
 },
 "nbformat": 4,
 "nbformat_minor": 5
}
