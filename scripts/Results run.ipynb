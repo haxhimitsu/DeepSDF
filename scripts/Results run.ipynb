{
 "cells": [
  {
   "cell_type": "code",
   "execution_count": 35,
   "id": "83dfa876",
   "metadata": {},
   "outputs": [],
   "source": [
    "import numpy as np\n",
    "import meshplot as mp\n",
    "import results.runs as runs\n",
    "import os\n",
    "import matplotlib.pyplot as plt\n",
    "import torch\n",
    "import model.sdf_model as sdf_model\n",
    "import trimesh\n",
    "\n",
    "device = torch.device(\"cuda:0\" if torch.cuda.is_available() else \"cpu\")"
   ]
  },
  {
   "cell_type": "markdown",
   "id": "c9e04a61",
   "metadata": {},
   "source": [
    "# Training curves"
   ]
  },
  {
   "cell_type": "code",
   "execution_count": 36,
   "id": "63d99f33",
   "metadata": {},
   "outputs": [
    {
     "data": {
      "image/png": "[encoded data removed]",
      "text/plain": [
       "<Figure size 648x432 with 1 Axes>"
      ]
     },
     "metadata": {
      "needs_background": "light"
     },
     "output_type": "display_data"
    }
   ],
   "source": [
    "run_folder = '04_11_145959'\n",
    "run_dir = os.path.join(os.path.dirname(runs.__file__), run_folder)\n",
    "results_path = os.path.join(run_dir, 'results.npy')\n",
    "results = np.load(results_path, allow_pickle=True).item()\n",
    "\n",
    "train_loss = results['train']['loss']\n",
    "val_loss = results['val']['loss']\n",
    "plt.figure(figsize=(9, 6))\n",
    "plt.title('Results', fontsize=20)\n",
    "plt.plot(train_loss, label='Train loss')\n",
    "plt.plot(val_loss, label='Val loss')\n",
    "plt.xlabel('Epochs', fontsize=20)\n",
    "plt.ylabel('L1', fontsize=20) \n",
    "plt.legend(fontsize=20)\n",
    "plt.show()"
   ]
  },
  {
   "cell_type": "markdown",
   "id": "0267eec9",
   "metadata": {},
   "source": [
    "Extract latent code:"
   ]
  },
  {
   "cell_type": "code",
   "execution_count": 37,
   "id": "0f9cd2de",
   "metadata": {},
   "outputs": [],
   "source": [
    "latent_codes = torch.tensor(results['train']['latent_codes'][-1])     # last one"
   ]
  },
  {
   "cell_type": "code",
   "execution_count": 48,
   "id": "9658dbd7",
   "metadata": {},
   "outputs": [
    {
     "data": {
      "text/plain": [
       "tensor([[ 0.0000e+00,  0.0000e+00,  0.0000e+00,  0.0000e+00,  0.0000e+00,\n",
       "          0.0000e+00,  0.0000e+00,  0.0000e+00,  0.0000e+00,  0.0000e+00,\n",
       "          0.0000e+00,  0.0000e+00,  0.0000e+00,  0.0000e+00,  0.0000e+00,\n",
       "          0.0000e+00,  0.0000e+00,  0.0000e+00,  0.0000e+00,  0.0000e+00,\n",
       "          0.0000e+00,  0.0000e+00,  0.0000e+00,  0.0000e+00,  0.0000e+00,\n",
       "          0.0000e+00,  0.0000e+00,  0.0000e+00,  0.0000e+00,  0.0000e+00,\n",
       "          0.0000e+00,  0.0000e+00,  0.0000e+00,  0.0000e+00,  0.0000e+00,\n",
       "          0.0000e+00,  0.0000e+00,  0.0000e+00,  0.0000e+00,  0.0000e+00,\n",
       "          0.0000e+00,  0.0000e+00,  0.0000e+00,  0.0000e+00,  0.0000e+00,\n",
       "          0.0000e+00,  0.0000e+00,  0.0000e+00,  0.0000e+00,  0.0000e+00,\n",
       "          0.0000e+00,  0.0000e+00,  0.0000e+00,  0.0000e+00,  0.0000e+00,\n",
       "          0.0000e+00,  0.0000e+00,  0.0000e+00,  0.0000e+00,  0.0000e+00,\n",
       "          0.0000e+00,  0.0000e+00,  0.0000e+00,  0.0000e+00,  0.0000e+00,\n",
       "          0.0000e+00,  0.0000e+00,  0.0000e+00,  0.0000e+00,  0.0000e+00,\n",
       "          0.0000e+00,  0.0000e+00,  0.0000e+00,  0.0000e+00,  0.0000e+00,\n",
       "          0.0000e+00,  0.0000e+00,  0.0000e+00,  0.0000e+00,  0.0000e+00,\n",
       "          0.0000e+00,  0.0000e+00,  0.0000e+00,  0.0000e+00,  0.0000e+00,\n",
       "          0.0000e+00,  0.0000e+00,  0.0000e+00,  0.0000e+00,  0.0000e+00,\n",
       "          0.0000e+00,  0.0000e+00,  0.0000e+00,  0.0000e+00,  0.0000e+00,\n",
       "          0.0000e+00,  0.0000e+00,  0.0000e+00,  0.0000e+00,  0.0000e+00,\n",
       "          0.0000e+00,  0.0000e+00,  0.0000e+00,  0.0000e+00,  0.0000e+00,\n",
       "          0.0000e+00,  0.0000e+00,  0.0000e+00,  0.0000e+00,  0.0000e+00,\n",
       "          0.0000e+00,  0.0000e+00,  0.0000e+00,  0.0000e+00,  0.0000e+00,\n",
       "          0.0000e+00,  0.0000e+00,  0.0000e+00,  0.0000e+00,  0.0000e+00,\n",
       "          0.0000e+00,  0.0000e+00,  0.0000e+00,  0.0000e+00,  0.0000e+00,\n",
       "          0.0000e+00,  0.0000e+00,  0.0000e+00],\n",
       "        [ 0.0000e+00,  0.0000e+00,  0.0000e+00,  0.0000e+00,  0.0000e+00,\n",
       "          0.0000e+00,  0.0000e+00,  0.0000e+00,  0.0000e+00,  0.0000e+00,\n",
       "          0.0000e+00,  0.0000e+00,  0.0000e+00,  0.0000e+00,  0.0000e+00,\n",
       "          0.0000e+00,  0.0000e+00,  0.0000e+00,  0.0000e+00,  0.0000e+00,\n",
       "          0.0000e+00,  0.0000e+00,  0.0000e+00,  0.0000e+00,  0.0000e+00,\n",
       "          0.0000e+00,  0.0000e+00,  0.0000e+00,  0.0000e+00,  0.0000e+00,\n",
       "          0.0000e+00,  0.0000e+00,  0.0000e+00,  0.0000e+00,  0.0000e+00,\n",
       "          0.0000e+00,  0.0000e+00,  0.0000e+00,  0.0000e+00,  0.0000e+00,\n",
       "          0.0000e+00,  0.0000e+00,  0.0000e+00,  0.0000e+00,  0.0000e+00,\n",
       "          0.0000e+00,  0.0000e+00,  0.0000e+00,  0.0000e+00,  0.0000e+00,\n",
       "          0.0000e+00,  0.0000e+00,  0.0000e+00,  0.0000e+00,  0.0000e+00,\n",
       "          0.0000e+00,  0.0000e+00,  0.0000e+00,  0.0000e+00,  0.0000e+00,\n",
       "          0.0000e+00,  0.0000e+00,  0.0000e+00,  0.0000e+00,  0.0000e+00,\n",
       "          0.0000e+00,  0.0000e+00,  0.0000e+00,  0.0000e+00,  0.0000e+00,\n",
       "          0.0000e+00,  0.0000e+00,  0.0000e+00,  0.0000e+00,  0.0000e+00,\n",
       "          0.0000e+00,  0.0000e+00,  0.0000e+00,  0.0000e+00,  0.0000e+00,\n",
       "          0.0000e+00,  0.0000e+00,  0.0000e+00,  0.0000e+00,  0.0000e+00,\n",
       "          0.0000e+00,  0.0000e+00,  0.0000e+00,  0.0000e+00,  0.0000e+00,\n",
       "          0.0000e+00,  0.0000e+00,  0.0000e+00,  0.0000e+00,  0.0000e+00,\n",
       "          0.0000e+00,  0.0000e+00,  0.0000e+00,  0.0000e+00,  0.0000e+00,\n",
       "          0.0000e+00,  0.0000e+00,  0.0000e+00,  0.0000e+00,  0.0000e+00,\n",
       "          0.0000e+00,  0.0000e+00,  0.0000e+00,  0.0000e+00,  0.0000e+00,\n",
       "          0.0000e+00,  0.0000e+00,  0.0000e+00,  0.0000e+00,  0.0000e+00,\n",
       "          0.0000e+00,  0.0000e+00,  0.0000e+00,  0.0000e+00,  0.0000e+00,\n",
       "          0.0000e+00,  0.0000e+00,  0.0000e+00,  0.0000e+00,  0.0000e+00,\n",
       "          0.0000e+00,  0.0000e+00,  0.0000e+00],\n",
       "        [ 6.4505e-04, -8.6011e-03, -7.5430e-03, -5.9233e-03,  3.0797e-04,\n",
       "          1.2949e-02,  6.4846e-03, -4.4921e-03, -3.2288e-04,  4.2016e-03,\n",
       "          1.0987e-02, -2.3210e-04,  1.0968e-02, -1.1299e-02, -3.1377e-03,\n",
       "          2.8689e-03, -7.0334e-04, -1.2242e-03,  3.7291e-03,  1.0029e-02,\n",
       "         -1.5319e-03,  2.3326e-03,  1.7345e-02, -6.6846e-03,  1.3610e-02,\n",
       "          9.8709e-03,  3.1066e-03,  8.0212e-03,  3.7051e-03, -7.8110e-04,\n",
       "         -5.0709e-03, -2.8303e-03,  6.2358e-04,  6.3111e-03,  2.7933e-03,\n",
       "         -6.0309e-03,  4.0999e-03,  4.8513e-03,  3.6254e-03,  6.8313e-03,\n",
       "          9.5471e-03, -1.2073e-03,  3.8398e-03, -1.8310e-03,  3.1927e-03,\n",
       "         -6.0971e-04,  7.2092e-04, -3.9433e-03,  6.7561e-03,  5.4206e-03,\n",
       "         -8.2890e-03,  3.8100e-04,  3.2248e-03, -1.1696e-02,  1.3343e-03,\n",
       "          2.4187e-03,  9.4986e-03, -7.4794e-03, -3.3281e-03, -6.5642e-03,\n",
       "         -2.0199e-03, -1.7527e-03,  4.6653e-03,  1.4850e-03,  2.6724e-03,\n",
       "         -2.7999e-03, -9.8149e-03, -6.7651e-03,  3.3939e-03,  2.6593e-03,\n",
       "          4.4540e-03, -2.6882e-03,  3.3343e-03, -4.6407e-04,  4.4113e-03,\n",
       "          5.3934e-03,  9.7725e-03,  3.4027e-03, -8.4033e-05, -2.2897e-03,\n",
       "         -9.4834e-03, -4.5038e-03,  1.1549e-04, -5.6086e-03,  4.5960e-03,\n",
       "          9.7852e-03,  3.9532e-03, -3.7903e-03,  2.5737e-03,  7.6115e-03,\n",
       "         -2.8087e-04, -6.3367e-03,  3.3936e-04,  5.9443e-03,  9.4648e-03,\n",
       "          4.6085e-03, -9.2136e-03, -3.7815e-04, -3.9321e-03, -1.3913e-04,\n",
       "         -3.7084e-03,  3.2022e-03, -3.4189e-03, -1.7138e-03,  5.0671e-03,\n",
       "          8.4196e-03, -7.6294e-03, -1.7959e-04,  2.1796e-03,  8.4630e-03,\n",
       "          7.6357e-03, -2.5947e-03, -5.3875e-03,  1.6420e-02,  1.0111e-02,\n",
       "         -3.3504e-03, -3.2549e-03,  4.4935e-03, -1.7345e-03,  1.3292e-02,\n",
       "         -1.8690e-03, -1.1911e-03, -8.0855e-03,  1.3460e-02,  2.4613e-03,\n",
       "         -2.1063e-03,  7.8242e-03,  1.2129e-02]])"
      ]
     },
     "execution_count": 48,
     "metadata": {},
     "output_type": "execute_result"
    }
   ],
   "source": [
    "latent_codes = torch.tensor(results['train']['latent_codes'])\n",
    "latent_codes[48] - latent_codes[2] "
   ]
  },
  {
   "cell_type": "markdown",
   "id": "8d2f10a5",
   "metadata": {},
   "source": [
    "# Visualize mesh\n",
    "First optimised latent code during training:"
   ]
  },
  {
   "cell_type": "code",
   "execution_count": 39,
   "id": "6e33ba60",
   "metadata": {},
   "outputs": [
    {
     "name": "stdout",
     "output_type": "stream",
     "text": [
      "tensor([[0.0375],\n",
      "        [0.0375],\n",
      "        [0.0375],\n",
      "        ...,\n",
      "        [0.0375],\n",
      "        [0.0375],\n",
      "        [0.0375]])\n"
     ]
    }
   ],
   "source": [
    "latent_code_idx = 0\n",
    "run_folder = '04_11_145959'\n",
    "run_dir = os.path.join(os.path.dirname(runs.__file__), run_folder)\n",
    "weights_path = os.path.join(run_dir, 'weights.pt')\n",
    "device = torch.device(\"cuda:0\" if torch.cuda.is_available() else \"cpu\")\n",
    "\n",
    "def extract_mesh(data, sdf):\n",
    "    #sdf_inside = data[(sdf.view(-1)>-0.01) & (sdf.view(-1)<0.01)]\n",
    "    sdf_inside = data[(sdf.view(-1)<0.01)]\n",
    "    mesh = trimesh.voxel.ops.points_to_marching_cubes(sdf_inside.detach().cpu().numpy(), pitch=0.015)\n",
    "    return mesh\n",
    "\n",
    "model = sdf_model.SDFModelMulti().to(device)\n",
    "model.load_state_dict(torch.load(weights_path, map_location=torch.device(device)))\n",
    "model.eval()\n",
    "grid_values = torch.arange(-1, 1, 0.1) #0.015\n",
    "grid = torch.meshgrid(grid_values, grid_values, grid_values)\n",
    "coords = torch.vstack((grid[0].ravel(), grid[1].ravel(), grid[2].ravel())).transpose(1, 0).to(device)\n",
    "\n",
    "latent_tile = torch.tile(latent_codes[latent_code_idx], (coords.shape[0], 1))\n",
    "coords_latent = torch.hstack((latent_tile, coords))\n",
    "\n",
    "print(sdf)\n",
    "with torch.no_grad():\n",
    "    sdf = model(coords_latent)\n",
    "mesh = extract_mesh(coords, sdf)\n",
    "verts = np.asarray(mesh.vertices)\n",
    "faces = np.asarray(mesh.faces)"
   ]
  },
  {
   "cell_type": "code",
   "execution_count": 4,
   "id": "39c87b0c",
   "metadata": {},
   "outputs": [
    {
     "ename": "NameError",
     "evalue": "name 'verts' is not defined",
     "output_type": "error",
     "traceback": [
      "\u001b[0;31m---------------------------------------------------------------------------\u001b[0m",
      "\u001b[0;31mNameError\u001b[0m                                 Traceback (most recent call last)",
      "Input \u001b[0;32mIn [4]\u001b[0m, in \u001b[0;36m<cell line: 3>\u001b[0;34m()\u001b[0m\n\u001b[1;32m      1\u001b[0m shading\u001b[38;5;241m=\u001b[39m{\u001b[38;5;124m'\u001b[39m\u001b[38;5;124mwireframe\u001b[39m\u001b[38;5;124m'\u001b[39m:\u001b[38;5;28;01mFalse\u001b[39;00m, \u001b[38;5;124m\"\u001b[39m\u001b[38;5;124mcolormap\u001b[39m\u001b[38;5;124m\"\u001b[39m: \u001b[38;5;124m\"\u001b[39m\u001b[38;5;124mviridis\u001b[39m\u001b[38;5;124m\"\u001b[39m}\n\u001b[1;32m      2\u001b[0m \u001b[38;5;66;03m#mp.plot(sphere_verts, sphere_faces, c=sphere_verts[:, 1], shading=shading)\u001b[39;00m\n\u001b[0;32m----> 3\u001b[0m mp\u001b[38;5;241m.\u001b[39mplot(\u001b[43mverts\u001b[49m, faces, c\u001b[38;5;241m=\u001b[39mverts[:, \u001b[38;5;241m1\u001b[39m], shading\u001b[38;5;241m=\u001b[39mshading)\n",
      "\u001b[0;31mNameError\u001b[0m: name 'verts' is not defined"
     ]
    }
   ],
   "source": [
    "shading={'wireframe':False, \"colormap\": \"viridis\"}\n",
    "#mp.plot(sphere_verts, sphere_faces, c=sphere_verts[:, 1], shading=shading)\n",
    "mp.plot(verts, faces, c=verts[:, 1], shading=shading)"
   ]
  }
 ],
 "metadata": {
  "kernelspec": {
   "display_name": "Python 3 (ipykernel)",
   "language": "python",
   "name": "python3"
  },
  "language_info": {
   "codemirror_mode": {
    "name": "ipython",
    "version": 3
   },
   "file_extension": ".py",
   "mimetype": "text/x-python",
   "name": "python",
   "nbconvert_exporter": "python",
   "pygments_lexer": "ipython3",
   "version": "3.8.13"
  },
  "vscode": {
   "interpreter": {
    "hash": "34beedc6643eb3ce072f676c3a0d6d835447e956a02a2bbd426bf24a631e4f94"
   }
  }
 },
 "nbformat": 4,
 "nbformat_minor": 5
}
