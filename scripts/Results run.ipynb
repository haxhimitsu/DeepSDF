{
 "cells": [
  {
   "cell_type": "code",
   "execution_count": 82,
   "id": "83dfa876",
   "metadata": {},
   "outputs": [],
   "source": [
    "import numpy as np\n",
    "import meshplot as mp\n",
    "import results.runs as runs\n",
    "import os\n",
    "import matplotlib.pyplot as plt\n",
    "import torch\n",
    "import model.sdf_model as sdf_model\n",
    "import trimesh\n",
    "\n",
    "device = torch.device(\"cuda:0\" if torch.cuda.is_available() else \"cpu\")"
   ]
  },
  {
   "cell_type": "markdown",
   "id": "c9e04a61",
   "metadata": {},
   "source": [
    "# Training curves"
   ]
  },
  {
   "cell_type": "code",
   "execution_count": 83,
   "id": "63d99f33",
   "metadata": {},
   "outputs": [
    {
     "data": {
      "image/png": "[encoded data removed]",
      "text/plain": [
       "<Figure size 648x432 with 1 Axes>"
      ]
     },
     "metadata": {
      "needs_background": "light"
     },
     "output_type": "display_data"
    }
   ],
   "source": [
    "run_folder = '04_11_161003'\n",
    "run_dir = os.path.join(os.path.dirname(runs.__file__), run_folder)\n",
    "results_path = os.path.join(run_dir, 'results.npy')\n",
    "results = np.load(results_path, allow_pickle=True).item()\n",
    "\n",
    "train_loss = results['train']['loss']\n",
    "val_loss = results['val']['loss']\n",
    "plt.figure(figsize=(9, 6))\n",
    "plt.title('Results', fontsize=20)\n",
    "plt.plot(train_loss, label='Train loss')\n",
    "plt.plot(val_loss, label='Val loss')\n",
    "plt.xlabel('Epochs', fontsize=20)\n",
    "plt.ylabel('L1', fontsize=20) \n",
    "plt.legend(fontsize=20)\n",
    "plt.show()"
   ]
  },
  {
   "cell_type": "markdown",
   "id": "f422059e",
   "metadata": {},
   "source": [
    "Extract latent code:"
   ]
  },
  {
   "cell_type": "code",
   "execution_count": 70,
   "id": "d77c84bd",
   "metadata": {},
   "outputs": [],
   "source": [
    "latent_codes = torch.tensor(results['train']['latent_codes'][-1])     # last one"
   ]
  },
  {
   "cell_type": "markdown",
   "id": "8d2f10a5",
   "metadata": {},
   "source": [
    "# Visualize mesh\n",
    "First optimised latent code during training:"
   ]
  },
  {
   "cell_type": "code",
   "execution_count": 81,
   "id": "6e33ba60",
   "metadata": {},
   "outputs": [
    {
     "name": "stdout",
     "output_type": "stream",
     "text": [
      "tensor([[-0.0002],\n",
      "        [-0.0002],\n",
      "        [-0.0002],\n",
      "        ...,\n",
      "        [-0.0003],\n",
      "        [-0.0003],\n",
      "        [-0.0003]])\n",
      "tensor([True, True, True,  ..., True, True, True])\n"
     ]
    }
   ],
   "source": [
    "latent_code_idx = 2\n",
    "run_folder = '04_11_161003'\n",
    "run_dir = os.path.join(os.path.dirname(runs.__file__), run_folder)\n",
    "weights_path = os.path.join(run_dir, 'weights.pt')\n",
    "device = torch.device(\"cuda:0\" if torch.cuda.is_available() else \"cpu\")\n",
    "\n",
    "def extract_mesh(data, sdf):\n",
    "    sdf_inside = data[(sdf.view(-1)>-0.01) & (sdf.view(-1)<0.01)]\n",
    "    #sdf_inside = data[(sdf.view(-1)<0.01)]\n",
    "    mesh = trimesh.voxel.ops.points_to_marching_cubes(sdf_inside.detach().cpu().numpy(), pitch=0.015)\n",
    "    return mesh\n",
    "\n",
    "model = sdf_model.SDFModelMulti().to(device)\n",
    "model.load_state_dict(torch.load(weights_path, map_location=torch.device(device)))\n",
    "model.eval()\n",
    "grid_values = torch.arange(-1, 1, 0.1) #0.015\n",
    "grid = torch.meshgrid(grid_values, grid_values, grid_values)\n",
    "coords = torch.vstack((grid[0].ravel(), grid[1].ravel(), grid[2].ravel())).transpose(1, 0).to(device)\n",
    "latent_tile = torch.tile(latent_codes[latent_code_idx, :], (coords.shape[0], 1))\n",
    "coords_latent = torch.hstack((latent_tile, coords))\n",
    "print(sdf)\n",
    "with torch.no_grad():\n",
    "    sdf = model(coords_latent)\n",
    "mesh = extract_mesh(coords, sdf)\n",
    "verts = np.asarray(mesh.vertices)\n",
    "faces = np.asarray(mesh.faces)"
   ]
  },
  {
   "cell_type": "code",
   "execution_count": 79,
   "id": "39c87b0c",
   "metadata": {},
   "outputs": [
    {
     "data": {
      "application/vnd.jupyter.widget-view+json": {
       "model_id": "75e5c24ed59243a1b302309cdd507b97",
       "version_major": 2,
       "version_minor": 0
      },
      "text/plain": [
       "Renderer(camera=PerspectiveCamera(children=(DirectionalLight(color='white', intensity=0.6, position=(-0.047500…"
      ]
     },
     "metadata": {},
     "output_type": "display_data"
    },
    {
     "data": {
      "text/plain": [
       "<meshplot.Viewer.Viewer at 0x2840c0f10>"
      ]
     },
     "execution_count": 79,
     "metadata": {},
     "output_type": "execute_result"
    }
   ],
   "source": [
    "shading={'wireframe':False, \"colormap\": \"viridis\"}\n",
    "#mp.plot(sphere_verts, sphere_faces, c=sphere_verts[:, 1], shading=shading)\n",
    "mp.plot(verts, faces, c=verts[:, 1], shading=shading)"
   ]
  },
  {
   "cell_type": "code",
   "execution_count": null,
   "id": "5a99bcf6",
   "metadata": {},
   "outputs": [],
   "source": []
  }
 ],
 "metadata": {
  "kernelspec": {
   "display_name": "Python 3 (ipykernel)",
   "language": "python",
   "name": "python3"
  },
  "language_info": {
   "codemirror_mode": {
    "name": "ipython",
    "version": 3
   },
   "file_extension": ".py",
   "mimetype": "text/x-python",
   "name": "python",
   "nbconvert_exporter": "python",
   "pygments_lexer": "ipython3",
   "version": "3.8.13"
  },
  "vscode": {
   "interpreter": {
    "hash": "34beedc6643eb3ce072f676c3a0d6d835447e956a02a2bbd426bf24a631e4f94"
   }
  }
 },
 "nbformat": 4,
 "nbformat_minor": 5
}
