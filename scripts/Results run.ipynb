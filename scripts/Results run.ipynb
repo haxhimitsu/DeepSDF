{
 "cells": [
  {
   "cell_type": "code",
   "execution_count": 27,
   "id": "83dfa876",
   "metadata": {},
   "outputs": [],
   "source": [
    "import numpy as np\n",
    "import meshplot as mp\n",
    "import results.runs as runs\n",
    "import os\n",
    "import matplotlib.pyplot as plt\n",
    "import torch\n",
    "import model.sdf_model as sdf_model\n",
    "import trimesh\n",
    "\n",
    "device = torch.device(\"cuda:0\" if torch.cuda.is_available() else \"cpu\")"
   ]
  },
  {
   "cell_type": "markdown",
   "id": "c9e04a61",
   "metadata": {},
   "source": [
    "# Training curves"
   ]
  },
  {
   "cell_type": "code",
   "execution_count": 28,
   "id": "63d99f33",
   "metadata": {},
   "outputs": [
    {
     "data": {
      "image/png": "[encoded data removed]",
      "text/plain": [
       "<Figure size 648x432 with 1 Axes>"
      ]
     },
     "metadata": {
      "needs_background": "light"
     },
     "output_type": "display_data"
    }
   ],
   "source": [
    "run_folder = '04_11_144940'\n",
    "run_dir = os.path.join(os.path.dirname(runs.__file__), run_folder)\n",
    "results_path = os.path.join(run_dir, 'results.npy')\n",
    "results = np.load(results_path, allow_pickle=True).item()\n",
    "\n",
    "train_loss = results['train']['loss']\n",
    "val_loss = results['val']['loss']\n",
    "plt.figure(figsize=(9, 6))\n",
    "plt.title('Results', fontsize=20)\n",
    "plt.plot(train_loss, label='Train loss')\n",
    "plt.plot(val_loss, label='Val loss')\n",
    "plt.xlabel('Epochs', fontsize=20)\n",
    "plt.ylabel('L1', fontsize=20) \n",
    "plt.legend(fontsize=20)\n",
    "plt.show()"
   ]
  },
  {
   "cell_type": "markdown",
   "id": "101c0e63",
   "metadata": {},
   "source": [
    "Extract latent code:"
   ]
  },
  {
   "cell_type": "code",
   "execution_count": 31,
   "id": "f9d6a761",
   "metadata": {},
   "outputs": [],
   "source": [
    "latent_codes = torch.tensor(results['train']['latent_codes'][-1])     # last one"
   ]
  },
  {
   "cell_type": "markdown",
   "id": "8d2f10a5",
   "metadata": {},
   "source": [
    "# Visualize mesh\n",
    "First optimised latent code during training:"
   ]
  },
  {
   "cell_type": "code",
   "execution_count": 34,
   "id": "6e33ba60",
   "metadata": {},
   "outputs": [
    {
     "name": "stdout",
     "output_type": "stream",
     "text": [
      "tensor([[0.0375],\n",
      "        [0.0375],\n",
      "        [0.0375],\n",
      "        ...,\n",
      "        [0.0376],\n",
      "        [0.0376],\n",
      "        [0.0375]])\n"
     ]
    },
    {
     "ename": "ValueError",
     "evalue": "zero-size array to reduction operation minimum which has no identity",
     "output_type": "error",
     "traceback": [
      "\u001b[0;31m---------------------------------------------------------------------------\u001b[0m",
      "\u001b[0;31mValueError\u001b[0m                                Traceback (most recent call last)",
      "Input \u001b[0;32mIn [34]\u001b[0m, in \u001b[0;36m<cell line: 26>\u001b[0;34m()\u001b[0m\n\u001b[1;32m     24\u001b[0m \u001b[38;5;28;01mwith\u001b[39;00m torch\u001b[38;5;241m.\u001b[39mno_grad():\n\u001b[1;32m     25\u001b[0m     sdf \u001b[38;5;241m=\u001b[39m model(coords_latent)\n\u001b[0;32m---> 26\u001b[0m mesh \u001b[38;5;241m=\u001b[39m \u001b[43mextract_mesh\u001b[49m\u001b[43m(\u001b[49m\u001b[43mcoords\u001b[49m\u001b[43m,\u001b[49m\u001b[43m \u001b[49m\u001b[43msdf\u001b[49m\u001b[43m)\u001b[49m\n\u001b[1;32m     27\u001b[0m verts \u001b[38;5;241m=\u001b[39m np\u001b[38;5;241m.\u001b[39masarray(mesh\u001b[38;5;241m.\u001b[39mvertices)\n\u001b[1;32m     28\u001b[0m faces \u001b[38;5;241m=\u001b[39m np\u001b[38;5;241m.\u001b[39masarray(mesh\u001b[38;5;241m.\u001b[39mfaces)\n",
      "Input \u001b[0;32mIn [34]\u001b[0m, in \u001b[0;36mextract_mesh\u001b[0;34m(data, sdf)\u001b[0m\n\u001b[1;32m      7\u001b[0m \u001b[38;5;28;01mdef\u001b[39;00m \u001b[38;5;21mextract_mesh\u001b[39m(data, sdf):\n\u001b[1;32m      8\u001b[0m     \u001b[38;5;66;03m#sdf_inside = data[(sdf.view(-1)>-0.01) & (sdf.view(-1)<0.01)]\u001b[39;00m\n\u001b[1;32m      9\u001b[0m     sdf_inside \u001b[38;5;241m=\u001b[39m data[(sdf\u001b[38;5;241m.\u001b[39mview(\u001b[38;5;241m-\u001b[39m\u001b[38;5;241m1\u001b[39m)\u001b[38;5;241m<\u001b[39m\u001b[38;5;241m0.01\u001b[39m)]\n\u001b[0;32m---> 10\u001b[0m     mesh \u001b[38;5;241m=\u001b[39m \u001b[43mtrimesh\u001b[49m\u001b[38;5;241;43m.\u001b[39;49m\u001b[43mvoxel\u001b[49m\u001b[38;5;241;43m.\u001b[39;49m\u001b[43mops\u001b[49m\u001b[38;5;241;43m.\u001b[39;49m\u001b[43mpoints_to_marching_cubes\u001b[49m\u001b[43m(\u001b[49m\u001b[43msdf_inside\u001b[49m\u001b[38;5;241;43m.\u001b[39;49m\u001b[43mdetach\u001b[49m\u001b[43m(\u001b[49m\u001b[43m)\u001b[49m\u001b[38;5;241;43m.\u001b[39;49m\u001b[43mcpu\u001b[49m\u001b[43m(\u001b[49m\u001b[43m)\u001b[49m\u001b[38;5;241;43m.\u001b[39;49m\u001b[43mnumpy\u001b[49m\u001b[43m(\u001b[49m\u001b[43m)\u001b[49m\u001b[43m,\u001b[49m\u001b[43m \u001b[49m\u001b[43mpitch\u001b[49m\u001b[38;5;241;43m=\u001b[39;49m\u001b[38;5;241;43m0.015\u001b[39;49m\u001b[43m)\u001b[49m\n\u001b[1;32m     11\u001b[0m     \u001b[38;5;28;01mreturn\u001b[39;00m mesh\n",
      "File \u001b[0;32m~/miniforge3/envs/active_touch/lib/python3.8/site-packages/trimesh/voxel/ops.py:214\u001b[0m, in \u001b[0;36mpoints_to_marching_cubes\u001b[0;34m(points, pitch)\u001b[0m\n\u001b[1;32m    211\u001b[0m pitch \u001b[38;5;241m=\u001b[39m np\u001b[38;5;241m.\u001b[39masanyarray(pitch, dtype\u001b[38;5;241m=\u001b[39m\u001b[38;5;28mfloat\u001b[39m)\n\u001b[1;32m    213\u001b[0m \u001b[38;5;66;03m# find the minimum value of points for origin\u001b[39;00m\n\u001b[0;32m--> 214\u001b[0m origin \u001b[38;5;241m=\u001b[39m \u001b[43mpoints\u001b[49m\u001b[38;5;241;43m.\u001b[39;49m\u001b[43mmin\u001b[49m\u001b[43m(\u001b[49m\u001b[43maxis\u001b[49m\u001b[38;5;241;43m=\u001b[39;49m\u001b[38;5;241;43m0\u001b[39;49m\u001b[43m)\u001b[49m\n\u001b[1;32m    215\u001b[0m \u001b[38;5;66;03m# convert points to occupied voxel cells\u001b[39;00m\n\u001b[1;32m    216\u001b[0m index \u001b[38;5;241m=\u001b[39m ((points \u001b[38;5;241m-\u001b[39m origin) \u001b[38;5;241m/\u001b[39m pitch)\u001b[38;5;241m.\u001b[39mround()\u001b[38;5;241m.\u001b[39mastype(np\u001b[38;5;241m.\u001b[39mint64)\n",
      "File \u001b[0;32m~/miniforge3/envs/active_touch/lib/python3.8/site-packages/numpy/core/_methods.py:44\u001b[0m, in \u001b[0;36m_amin\u001b[0;34m(a, axis, out, keepdims, initial, where)\u001b[0m\n\u001b[1;32m     42\u001b[0m \u001b[38;5;28;01mdef\u001b[39;00m \u001b[38;5;21m_amin\u001b[39m(a, axis\u001b[38;5;241m=\u001b[39m\u001b[38;5;28;01mNone\u001b[39;00m, out\u001b[38;5;241m=\u001b[39m\u001b[38;5;28;01mNone\u001b[39;00m, keepdims\u001b[38;5;241m=\u001b[39m\u001b[38;5;28;01mFalse\u001b[39;00m,\n\u001b[1;32m     43\u001b[0m           initial\u001b[38;5;241m=\u001b[39m_NoValue, where\u001b[38;5;241m=\u001b[39m\u001b[38;5;28;01mTrue\u001b[39;00m):\n\u001b[0;32m---> 44\u001b[0m     \u001b[38;5;28;01mreturn\u001b[39;00m \u001b[43mumr_minimum\u001b[49m\u001b[43m(\u001b[49m\u001b[43ma\u001b[49m\u001b[43m,\u001b[49m\u001b[43m \u001b[49m\u001b[43maxis\u001b[49m\u001b[43m,\u001b[49m\u001b[43m \u001b[49m\u001b[38;5;28;43;01mNone\u001b[39;49;00m\u001b[43m,\u001b[49m\u001b[43m \u001b[49m\u001b[43mout\u001b[49m\u001b[43m,\u001b[49m\u001b[43m \u001b[49m\u001b[43mkeepdims\u001b[49m\u001b[43m,\u001b[49m\u001b[43m \u001b[49m\u001b[43minitial\u001b[49m\u001b[43m,\u001b[49m\u001b[43m \u001b[49m\u001b[43mwhere\u001b[49m\u001b[43m)\u001b[49m\n",
      "\u001b[0;31mValueError\u001b[0m: zero-size array to reduction operation minimum which has no identity"
     ]
    }
   ],
   "source": [
    "latent_code_idx = 0\n",
    "run_folder = '04_11_144940'\n",
    "run_dir = os.path.join(os.path.dirname(runs.__file__), run_folder)\n",
    "weights_path = os.path.join(run_dir, 'weights.pt')\n",
    "device = torch.device(\"cuda:0\" if torch.cuda.is_available() else \"cpu\")\n",
    "\n",
    "def extract_mesh(data, sdf):\n",
    "    #sdf_inside = data[(sdf.view(-1)>-0.01) & (sdf.view(-1)<0.01)]\n",
    "    sdf_inside = data[(sdf.view(-1)<0.01)]\n",
    "    mesh = trimesh.voxel.ops.points_to_marching_cubes(sdf_inside.detach().cpu().numpy(), pitch=0.015)\n",
    "    return mesh\n",
    "\n",
    "model = sdf_model.SDFModelMulti().to(device)\n",
    "model.load_state_dict(torch.load(weights_path, map_location=torch.device(device)))\n",
    "model.eval()\n",
    "grid_values = torch.arange(-1, 1, 0.1) #0.015\n",
    "grid = torch.meshgrid(grid_values, grid_values, grid_values)\n",
    "coords = torch.vstack((grid[0].ravel(), grid[1].ravel(), grid[2].ravel())).transpose(1, 0).to(device)\n",
    "\n",
    "latent_tile = torch.tile(latent_codes[latent_code_idx], (coords.shape[0], 1))\n",
    "coords_latent = torch.hstack((latent_tile, coords))\n",
    "\n",
    "print(sdf)\n",
    "with torch.no_grad():\n",
    "    sdf = model(coords_latent)\n",
    "mesh = extract_mesh(coords, sdf)\n",
    "verts = np.asarray(mesh.vertices)\n",
    "faces = np.asarray(mesh.faces)"
   ]
  },
  {
   "cell_type": "code",
   "execution_count": 4,
   "id": "39c87b0c",
   "metadata": {},
   "outputs": [
    {
     "ename": "NameError",
     "evalue": "name 'verts' is not defined",
     "output_type": "error",
     "traceback": [
      "\u001b[0;31m---------------------------------------------------------------------------\u001b[0m",
      "\u001b[0;31mNameError\u001b[0m                                 Traceback (most recent call last)",
      "Input \u001b[0;32mIn [4]\u001b[0m, in \u001b[0;36m<cell line: 3>\u001b[0;34m()\u001b[0m\n\u001b[1;32m      1\u001b[0m shading\u001b[38;5;241m=\u001b[39m{\u001b[38;5;124m'\u001b[39m\u001b[38;5;124mwireframe\u001b[39m\u001b[38;5;124m'\u001b[39m:\u001b[38;5;28;01mFalse\u001b[39;00m, \u001b[38;5;124m\"\u001b[39m\u001b[38;5;124mcolormap\u001b[39m\u001b[38;5;124m\"\u001b[39m: \u001b[38;5;124m\"\u001b[39m\u001b[38;5;124mviridis\u001b[39m\u001b[38;5;124m\"\u001b[39m}\n\u001b[1;32m      2\u001b[0m \u001b[38;5;66;03m#mp.plot(sphere_verts, sphere_faces, c=sphere_verts[:, 1], shading=shading)\u001b[39;00m\n\u001b[0;32m----> 3\u001b[0m mp\u001b[38;5;241m.\u001b[39mplot(\u001b[43mverts\u001b[49m, faces, c\u001b[38;5;241m=\u001b[39mverts[:, \u001b[38;5;241m1\u001b[39m], shading\u001b[38;5;241m=\u001b[39mshading)\n",
      "\u001b[0;31mNameError\u001b[0m: name 'verts' is not defined"
     ]
    }
   ],
   "source": [
    "shading={'wireframe':False, \"colormap\": \"viridis\"}\n",
    "#mp.plot(sphere_verts, sphere_faces, c=sphere_verts[:, 1], shading=shading)\n",
    "mp.plot(verts, faces, c=verts[:, 1], shading=shading)"
   ]
  }
 ],
 "metadata": {
  "kernelspec": {
   "display_name": "Python 3 (ipykernel)",
   "language": "python",
   "name": "python3"
  },
  "language_info": {
   "codemirror_mode": {
    "name": "ipython",
    "version": 3
   },
   "file_extension": ".py",
   "mimetype": "text/x-python",
   "name": "python",
   "nbconvert_exporter": "python",
   "pygments_lexer": "ipython3",
   "version": "3.8.13"
  },
  "vscode": {
   "interpreter": {
    "hash": "34beedc6643eb3ce072f676c3a0d6d835447e956a02a2bbd426bf24a631e4f94"
   }
  }
 },
 "nbformat": 4,
 "nbformat_minor": 5
}
