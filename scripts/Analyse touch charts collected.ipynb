{
 "cells": [
  {
   "cell_type": "markdown",
   "id": "cd5d8d37",
   "metadata": {},
   "source": [
    "# Analyse touch chart\n",
    "in this notebook, I check that the collected touch charts are correct. this means, the touch charts need to be lying onto the object surface once transdlated from workframe to worldframe."
   ]
  },
  {
   "cell_type": "code",
   "execution_count": 1,
   "id": "b1ac4635",
   "metadata": {},
   "outputs": [
    {
     "name": "stderr",
     "output_type": "stream",
     "text": [
      "pybullet build time: Aug 27 2022 18:18:13\n"
     ]
    }
   ],
   "source": [
    "import numpy as np\n",
    "import results\n",
    "import os\n",
    "import plotly.graph_objects as go\n",
    "import trimesh\n",
    "from utils import utils_mesh\n",
    "import pybullet as pb\n",
    "from utils import utils_raycasting, utils_mesh\n",
    "from data import objects\n",
    "import matplotlib.pyplot as plt\n",
    "%matplotlib qt"
   ]
  },
  {
   "cell_type": "markdown",
   "id": "65555187",
   "metadata": {},
   "source": [
    "Load the dictionary:"
   ]
  },
  {
   "cell_type": "code",
   "execution_count": 2,
   "id": "2b32df7c",
   "metadata": {},
   "outputs": [],
   "source": [
    "touch_charts_dict_path = os.path.join(os.path.dirname(results.__file__), 'touch_charts_gt.npy')\n",
    "touch_charts_dict = np.load(touch_charts_dict_path, allow_pickle=True).item()"
   ]
  },
  {
   "cell_type": "code",
   "execution_count": 3,
   "id": "98dee94e",
   "metadata": {},
   "outputs": [
    {
     "data": {
      "text/plain": [
       "dict_keys(['verts', 'tactile_imgs', 'pointclouds', 'rot_M_wrld_list', 'pos_wrld_list', 'pos_wrk_list', 'obj_index', 'initial_pos'])"
      ]
     },
     "execution_count": 3,
     "metadata": {},
     "output_type": "execute_result"
    }
   ],
   "source": [
    "touch_charts_dict.keys()"
   ]
  },
  {
   "cell_type": "code",
   "execution_count": 4,
   "id": "ba975637",
   "metadata": {},
   "outputs": [
    {
     "data": {
      "text/plain": [
       "array(['3763'], dtype='<U32')"
      ]
     },
     "execution_count": 4,
     "metadata": {},
     "output_type": "execute_result"
    }
   ],
   "source": [
    "np.unique(touch_charts_dict['obj_index'])"
   ]
  },
  {
   "cell_type": "markdown",
   "id": "0d646ab5",
   "metadata": {},
   "source": [
    "Let's visualise the pointclouds sampled on the object:"
   ]
  },
  {
   "cell_type": "code",
   "execution_count": 5,
   "id": "c13ef646",
   "metadata": {},
   "outputs": [],
   "source": [
    "objs_dict_path = os.path.join(os.path.dirname(results.__file__), 'objs_dict.npy')\n",
    "objs_dict = np.load(objs_dict_path, allow_pickle=True).item()"
   ]
  },
  {
   "cell_type": "code",
   "execution_count": 6,
   "id": "312e89eb",
   "metadata": {},
   "outputs": [
    {
     "data": {
      "text/plain": [
       "dict_keys(['3398', '3763', '102505', '100435', '100466', '100468', '102763', '3618', '3616', '102431', '102408', '3635', '3517', '103062', '3519', '103030', '103064', '3520', '103016', '100439', '3596', '100465', '102506', '100438', '100749', '3678', '3614', '3625', '3822', '102417', '3615', '102432', '3655', '102434', '102523', '101352', '3571', '101362'])"
      ]
     },
     "execution_count": 6,
     "metadata": {},
     "output_type": "execute_result"
    }
   ],
   "source": [
    "objs_dict.keys()"
   ]
  },
  {
   "cell_type": "code",
   "execution_count": 17,
   "id": "0f38936e",
   "metadata": {},
   "outputs": [
    {
     "name": "stdout",
     "output_type": "stream",
     "text": [
      "(1, 500, 3)\n",
      "(1, 3)\n",
      "(1, 3, 3)\n",
      "(1, 1, 3)\n",
      "(1, 500, 3)\n"
     ]
    }
   ],
   "source": [
    "# indices of the object in touch_charts_dict\n",
    "obj_indices = np.unique(touch_charts_dict['obj_index'])\n",
    "\n",
    "# Let's focus on the first object:\n",
    "obj_index = '3763'\n",
    "\n",
    "# Load scaled and rotated pointcloud of the object\n",
    "obj_path = os.path.join(os.path.dirname(objects.__file__), obj_index) \n",
    "mesh = utils_mesh.urdf_to_mesh(obj_path)\n",
    "obj_pointcloud = utils_mesh.mesh_to_pointcloud(mesh, n_samples = 5000)\n",
    "obj_pointcloud = utils_mesh.scale_pointcloud(obj_pointcloud, scale=0.1)\n",
    "obj_pointcloud = utils_mesh.rotate_pointcloud(obj_pointcloud)\n",
    "\n",
    "tc_indices = np.where(touch_charts_dict['obj_index'] == obj_index)[0]\n",
    "\n",
    "tc_pointclouds_wrk = touch_charts_dict['pointclouds'][tc_indices]\n",
    "pos_wrld_list = touch_charts_dict['pos_wrld_list'][tc_indices]\n",
    "rot_M_wrld_list = touch_charts_dict['rot_M_wrld_list'][tc_indices]\n",
    "initial_pos = touch_charts_dict['initial_pos'][tc_indices][:, None, :]\n",
    "tactile_img = touch_charts_dict['tactile_imgs'][tc_indices]\n",
    "\n",
    "print(tc_pointclouds_wrk.shape)\n",
    "print(pos_wrld_list.shape)\n",
    "print(rot_M_wrld_list.shape)\n",
    "print(initial_pos.shape)\n",
    "\n",
    "\n",
    "tc_pointclouds_wrld = utils_mesh.translate_rotate_mesh(pos_wrld_list, rot_M_wrld_list, tc_pointclouds_wrk, initial_pos)\n",
    "print(tc_pointclouds_wrld.shape)\n",
    "tc_x = tc_pointclouds_wrld[0, :, 0].ravel() \n",
    "tc_y = tc_pointclouds_wrld[0, :, 1].ravel()\n",
    "tc_z = tc_pointclouds_wrld[0, :, 2].ravel() \n",
    "\n",
    "for i in range(tc_pointclouds_wrld.shape[0]):\n",
    "    fig = plt.figure(figsize=(15, 15))\n",
    "\n",
    "    # =============\n",
    "    # First subplot\n",
    "    # =============\n",
    "    ax = fig.add_subplot(1, 2, 1)\n",
    "    ax.imshow(tactile_img[i][0], cmap='gray', vmin=0, vmax=1)\n",
    "\n",
    "    # =============\n",
    "    # Second subplot\n",
    "    # =============    \n",
    "    ax = fig.add_subplot(1, 2, 2, projection='3d')\n",
    "    ax.set(xlim=(-0.1, 0.1), ylim=(-0.1, 0.1), zlim=(-0.1, 0.1))\n",
    "    x_touch = tc_pointclouds_wrld[i, :, 0]\n",
    "    y_touch = tc_pointclouds_wrld[i, :, 1]\n",
    "    z_touch = tc_pointclouds_wrld[i, :, 2]\n",
    "    ax.scatter(x_touch, y_touch, z_touch, s=0.5)\n",
    "    x_obj = obj_pointcloud[:, 0]\n",
    "    y_obj = obj_pointcloud[:, 1]\n",
    "    z_obj = obj_pointcloud[:, 2]\n",
    "    ax.scatter(x_obj, y_obj, z_obj, s=0.2)\n",
    "    plt.show()\n",
    "    "
   ]
  },
  {
   "cell_type": "code",
   "execution_count": null,
   "id": "594d60f3",
   "metadata": {},
   "outputs": [],
   "source": [
    "touch_charts_dict['pointclouds'][tc_indices]"
   ]
  },
  {
   "cell_type": "code",
   "execution_count": null,
   "id": "58ee4569",
   "metadata": {},
   "outputs": [],
   "source": []
  }
 ],
 "metadata": {
  "kernelspec": {
   "display_name": "Python 3 (ipykernel)",
   "language": "python",
   "name": "python3"
  },
  "language_info": {
   "codemirror_mode": {
    "name": "ipython",
    "version": 3
   },
   "file_extension": ".py",
   "mimetype": "text/x-python",
   "name": "python",
   "nbconvert_exporter": "python",
   "pygments_lexer": "ipython3",
   "version": "3.8.13"
  }
 },
 "nbformat": 4,
 "nbformat_minor": 5
}
