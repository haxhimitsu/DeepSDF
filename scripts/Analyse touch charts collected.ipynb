{
 "cells": [
  {
   "cell_type": "markdown",
   "id": "cd5d8d37",
   "metadata": {},
   "source": [
    "# Analyse touch chart\n",
    "in this notebook, I check that the collected touch charts are correct. this means, the touch charts need to be lying onto the object surface once transdlated from workframe to worldframe."
   ]
  },
  {
   "cell_type": "code",
   "execution_count": 30,
   "id": "b1ac4635",
   "metadata": {},
   "outputs": [],
   "source": [
    "import numpy as np\n",
    "import results\n",
    "import os\n",
    "import plotly.graph_objects as go\n",
    "import trimesh\n",
    "from utils import utils_mesh\n",
    "import pybullet as pb\n",
    "from utils import utils_raycasting, utils_mesh\n",
    "from data import objects\n",
    "import matplotlib.pyplot as plt\n",
    "%matplotlib qt"
   ]
  },
  {
   "cell_type": "markdown",
   "id": "65555187",
   "metadata": {},
   "source": [
    "Load the dictionary:"
   ]
  },
  {
   "cell_type": "code",
   "execution_count": 31,
   "id": "2b32df7c",
   "metadata": {},
   "outputs": [],
   "source": [
    "touch_charts_dict_path = os.path.join(os.path.dirname(results.__file__), 'touch_charts_gt.npy')\n",
    "touch_charts_dict = np.load(touch_charts_dict_path, allow_pickle=True).item()"
   ]
  },
  {
   "cell_type": "code",
   "execution_count": 32,
   "id": "98dee94e",
   "metadata": {},
   "outputs": [
    {
     "data": {
      "text/plain": [
       "dict_keys(['verts', 'tactile_imgs', 'pointclouds', 'rot_M_wrld_list', 'pos_wrld_list', 'pos_wrk_list', 'obj_index', 'initial_pos'])"
      ]
     },
     "execution_count": 32,
     "metadata": {},
     "output_type": "execute_result"
    }
   ],
   "source": [
    "touch_charts_dict.keys()"
   ]
  },
  {
   "cell_type": "markdown",
   "id": "0d646ab5",
   "metadata": {},
   "source": [
    "Let's visualise the pointclouds sampled on the object:"
   ]
  },
  {
   "cell_type": "code",
   "execution_count": null,
   "id": "c13ef646",
   "metadata": {},
   "outputs": [],
   "source": [
    "objs_dict_path = os.path.join(os.path.dirname(results.__file__), 'objs_dict.npy')\n",
    "objs_dict = np.load(objs_dict_path, allow_pickle=True).item()"
   ]
  },
  {
   "cell_type": "code",
   "execution_count": 38,
   "id": "312e89eb",
   "metadata": {},
   "outputs": [
    {
     "data": {
      "text/plain": [
       "dict_keys(['3398', '3763', '102505', '100435', '100466', '100468', '102763', '3618', '3616', '102431', '102408', '3635', '3517', '103062', '3519', '103030', '103064', '3520', '103016', '100439', '3596', '100465', '102506', '100438', '100749', '3678', '3614', '3625', '3822', '102417', '3615', '102432', '3655', '102434', '102523', '101352', '3571', '101362'])"
      ]
     },
     "execution_count": 38,
     "metadata": {},
     "output_type": "execute_result"
    }
   ],
   "source": [
    "objs_dict.keys()"
   ]
  },
  {
   "cell_type": "code",
   "execution_count": 39,
   "id": "0f38936e",
   "metadata": {},
   "outputs": [
    {
     "name": "stdout",
     "output_type": "stream",
     "text": [
      "(0, 500, 3)\n",
      "(0, 3)\n",
      "(0, 3, 3)\n",
      "(0, 3)\n"
     ]
    },
    {
     "ename": "ValueError",
     "evalue": "operands could not be broadcast together with shapes (0,500,3) (0,3) ",
     "output_type": "error",
     "traceback": [
      "\u001b[0;31m---------------------------------------------------------------------------\u001b[0m",
      "\u001b[0;31mValueError\u001b[0m                                Traceback (most recent call last)",
      "Input \u001b[0;32mIn [39]\u001b[0m, in \u001b[0;36m<cell line: 27>\u001b[0;34m()\u001b[0m\n\u001b[1;32m     24\u001b[0m \u001b[38;5;28mprint\u001b[39m(rot_M_wrld_list\u001b[38;5;241m.\u001b[39mshape)\n\u001b[1;32m     25\u001b[0m \u001b[38;5;28mprint\u001b[39m(initial_pos\u001b[38;5;241m.\u001b[39mshape)\n\u001b[0;32m---> 27\u001b[0m tc_pointclouds_wrld \u001b[38;5;241m=\u001b[39m \u001b[43mutils_mesh\u001b[49m\u001b[38;5;241;43m.\u001b[39;49m\u001b[43mtranslate_rotate_mesh\u001b[49m\u001b[43m(\u001b[49m\u001b[43mpos_wrld_list\u001b[49m\u001b[43m,\u001b[49m\u001b[43m \u001b[49m\u001b[43mrot_M_wrld_list\u001b[49m\u001b[43m,\u001b[49m\u001b[43m \u001b[49m\u001b[43mtc_pointclouds_wrk\u001b[49m\u001b[43m,\u001b[49m\u001b[43m \u001b[49m\u001b[43minitial_pos\u001b[49m\u001b[43m)\u001b[49m\n\u001b[1;32m     29\u001b[0m tc_x \u001b[38;5;241m=\u001b[39m tc_pointclouds_wrld[\u001b[38;5;241m2\u001b[39m, :, \u001b[38;5;241m0\u001b[39m]\u001b[38;5;241m.\u001b[39mravel() \n\u001b[1;32m     30\u001b[0m tc_y \u001b[38;5;241m=\u001b[39m tc_pointclouds_wrld[\u001b[38;5;241m2\u001b[39m, :, \u001b[38;5;241m1\u001b[39m]\u001b[38;5;241m.\u001b[39mravel()\n",
      "File \u001b[0;32m~/Documents/PhD/Code/DeepSDF/utils/utils_mesh.py:172\u001b[0m, in \u001b[0;36mtranslate_rotate_mesh\u001b[0;34m(pos_wrld_list, rot_M_wrld_list, pointclouds_list, obj_initial_pos)\u001b[0m\n\u001b[1;32m    170\u001b[0m b \u001b[38;5;241m=\u001b[39m a\u001b[38;5;241m.\u001b[39mtranspose(\u001b[38;5;241m0\u001b[39m,\u001b[38;5;241m2\u001b[39m,\u001b[38;5;241m1\u001b[39m)\n\u001b[1;32m    171\u001b[0m c \u001b[38;5;241m=\u001b[39m pos_wrld_list[:, np\u001b[38;5;241m.\u001b[39mnewaxis, :] \u001b[38;5;241m+\u001b[39m b\n\u001b[0;32m--> 172\u001b[0m pointcloud_wrld \u001b[38;5;241m=\u001b[39m \u001b[43mc\u001b[49m\u001b[43m \u001b[49m\u001b[38;5;241;43m-\u001b[39;49m\u001b[43m \u001b[49m\u001b[43mobj_initial_pos\u001b[49m\n\u001b[1;32m    173\u001b[0m \u001b[38;5;28;01mreturn\u001b[39;00m pointcloud_wrld\n",
      "\u001b[0;31mValueError\u001b[0m: operands could not be broadcast together with shapes (0,500,3) (0,3) "
     ]
    }
   ],
   "source": [
    "# indices of the object in touch_charts_dict\n",
    "obj_indices = np.unique(touch_charts_dict['obj_index'])\n",
    "\n",
    "# Let's focus on the first object:\n",
    "obj_index = '102505'\n",
    "\n",
    "# Load scaled and rotated pointcloud of the object\n",
    "obj_path = os.path.join(os.path.dirname(objects.__file__), obj_index) \n",
    "mesh = utils_mesh.urdf_to_mesh(obj_path)\n",
    "obj_pointcloud = utils_mesh.mesh_to_pointcloud(mesh, n_samples = 5000)\n",
    "obj_pointcloud = utils_mesh.scale_pointcloud(obj_pointcloud, scale=0.1)\n",
    "obj_pointcloud = utils_mesh.rotate_pointcloud(obj_pointcloud)\n",
    "\n",
    "tc_indices = np.where(touch_charts_dict['obj_index'] == obj_index)[0]\n",
    "\n",
    "tc_pointclouds_wrk = touch_charts_dict['pointclouds'][tc_indices]\n",
    "pos_wrld_list = touch_charts_dict['pos_wrld_list'][tc_indices]\n",
    "rot_M_wrld_list = touch_charts_dict['rot_M_wrld_list'][tc_indices]\n",
    "initial_pos = touch_charts_dict['initial_pos'][tc_indices]\n",
    "\n",
    "\n",
    "print(tc_pointclouds_wrk.shape)\n",
    "print(pos_wrld_list.shape)\n",
    "print(rot_M_wrld_list.shape)\n",
    "print(initial_pos.shape)\n",
    "\n",
    "tc_pointclouds_wrld = utils_mesh.translate_rotate_mesh(pos_wrld_list, rot_M_wrld_list, tc_pointclouds_wrk, initial_pos)\n",
    "\n",
    "tc_x = tc_pointclouds_wrld[2, :, 0].ravel() \n",
    "tc_y = tc_pointclouds_wrld[2, :, 1].ravel()\n",
    "tc_z = tc_pointclouds_wrld[2, :, 2].ravel() \n",
    "\n",
    "fig = go.Figure(\n",
    "    [\n",
    "        go.Scatter3d(x=obj_pointcloud[:, 0], y=obj_pointcloud[:, 1],z=obj_pointcloud[:, 2], \n",
    "                     mode='markers', marker=dict(size=1)),\n",
    "        go.Scatter3d(x=tc_x, y=tc_y, z=tc_z, \n",
    "                     mode='markers', marker=dict(size=1))\n",
    "    ]\n",
    ")\n",
    "fig.show()    \n",
    "\n",
    "    "
   ]
  },
  {
   "cell_type": "code",
   "execution_count": null,
   "id": "1456f5b2",
   "metadata": {},
   "outputs": [],
   "source": []
  }
 ],
 "metadata": {
  "kernelspec": {
   "display_name": "Python 3 (ipykernel)",
   "language": "python",
   "name": "python3"
  },
  "language_info": {
   "codemirror_mode": {
    "name": "ipython",
    "version": 3
   },
   "file_extension": ".py",
   "mimetype": "text/x-python",
   "name": "python",
   "nbconvert_exporter": "python",
   "pygments_lexer": "ipython3",
   "version": "3.8.13"
  }
 },
 "nbformat": 4,
 "nbformat_minor": 5
}
